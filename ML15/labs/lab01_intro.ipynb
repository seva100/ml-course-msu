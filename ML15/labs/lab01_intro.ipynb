{
 "cells": [
  {
   "cell_type": "markdown",
   "metadata": {},
   "source": [
    "# Лабораторная работа 1. Язык Python, основные библиотеки для анализа данных."
   ]
  },
  {
   "cell_type": "markdown",
   "metadata": {},
   "source": [
    "ФИО: Севастопольский Артем Михайлович\n",
    "\n",
    "Группа: 317"
   ]
  },
  {
   "cell_type": "markdown",
   "metadata": {
    "collapsed": true
   },
   "source": [
    "Примечание от исполнителя работы: использовал Python версии 2.7."
   ]
  },
  {
   "cell_type": "code",
   "execution_count": 1,
   "metadata": {
    "collapsed": true
   },
   "outputs": [],
   "source": [
    "import numpy as np\n",
    "import pandas as pd"
   ]
  },
  {
   "cell_type": "markdown",
   "metadata": {},
   "source": [
    "## Часть 1: Python"
   ]
  },
  {
   "cell_type": "markdown",
   "metadata": {},
   "source": [
    "#### 1. Напишите код, который сформирует список всех натуральных чисел, не превосходящих 100, которые делятся на 7 и не делятся на 5. Нельзя использовать циклы — выполните это задание с помощью list comprehension."
   ]
  },
  {
   "cell_type": "code",
   "execution_count": 2,
   "metadata": {
    "collapsed": false
   },
   "outputs": [
    {
     "data": {
      "text/plain": [
       "[7, 14, 21, 28, 42, 49, 56, 63, 77, 84, 91, 98]"
      ]
     },
     "execution_count": 2,
     "metadata": {},
     "output_type": "execute_result"
    }
   ],
   "source": [
    "myList = [i for i in xrange(1, 101) if i % 7 == 0 and i % 5 != 0]\n",
    "myList"
   ]
  },
  {
   "cell_type": "markdown",
   "metadata": {},
   "source": [
    "#### 2. Напишите функцию `sort_tokens(s)`, которая принимает на вход строку, разделяет ее на токены по запятым, сортирует токены с помощью функции `sorted()` и снова соединяет их в одну строку через запятые. Например, для строки `u\"ночь,фонарь,улица\"` функция должна выдать `u\"ночь,улица,фонарь\"`. Придумайте несколько входных строк и протестируйте функцию на них."
   ]
  },
  {
   "cell_type": "markdown",
   "metadata": {},
   "source": [
    "Обратите внимание, что склеить строки можно с помощью конструкции `'x'.join(...)`. Например:"
   ]
  },
  {
   "cell_type": "code",
   "execution_count": 3,
   "metadata": {
    "collapsed": false
   },
   "outputs": [
    {
     "data": {
      "text/plain": [
       "'i! am! very! excited! :-)'"
      ]
     },
     "execution_count": 3,
     "metadata": {},
     "output_type": "execute_result"
    }
   ],
   "source": [
    "'! '.join(['i', 'am', 'very', 'excited', ':-)'])"
   ]
  },
  {
   "cell_type": "code",
   "execution_count": 4,
   "metadata": {
    "collapsed": false
   },
   "outputs": [
    {
     "name": "stdout",
     "output_type": "stream",
     "text": [
      "ночь,улица,фонарь\n",
      "аб,абв,где\n",
      "317\n",
      "\n",
      "14,317,417,517\n"
     ]
    }
   ],
   "source": [
    "def sort_tokens(s):\n",
    "    tokens = s.split(',')\n",
    "    joined = ','.join(sorted(tokens))\n",
    "    return joined\n",
    "\n",
    "print(sort_tokens(u\"ночь,фонарь,улица\"))\n",
    "print(sort_tokens(u\"где,абв,аб\"))\n",
    "print(sort_tokens(u\"317\"))\n",
    "print(sort_tokens(u\"\"))\n",
    "print(sort_tokens(u\"517,417,317,14\"))"
   ]
  },
  {
   "cell_type": "markdown",
   "metadata": {},
   "source": [
    "#### 3. Напишите функцию `remove_duplicates(a)`, которая принимает на вход список и возвращает его же, но без дубликатов и в отсортированном виде. Например, для списка `[u\"ночь\", u\"улица\", u\"фонарь\", u\"аптека\", u\"аптека\", u\"улица\", u\"фонарь\"]` результат должен быть `[u\"аптека\", u\"ночь\", u\"улица\", u\"фонарь\", ]`."
   ]
  },
  {
   "cell_type": "markdown",
   "metadata": {},
   "source": [
    "Подсказка: обратите внимание на структуру `set`!"
   ]
  },
  {
   "cell_type": "code",
   "execution_count": 5,
   "metadata": {
    "collapsed": false
   },
   "outputs": [
    {
     "name": "stdout",
     "output_type": "stream",
     "text": [
      "аптека\n",
      "ночь\n",
      "улица\n",
      "фонарь\n"
     ]
    }
   ],
   "source": [
    "def remove_duplicates(a):\n",
    "    a_set = set(a)\n",
    "    return list(sorted(a_set))\n",
    "\n",
    "b = remove_duplicates([u\"ночь\", u\"улица\", u\"фонарь\", u\"аптека\", u\"аптека\", u\"улица\", u\"фонарь\"])\n",
    "for el in b:\n",
    "    print el"
   ]
  },
  {
   "cell_type": "markdown",
   "metadata": {},
   "source": [
    "#### 4. Напишите функцию `word_counts(texts)`, которая принимает на вход список строк, и печатает пары (слово, число вхождений). Считайте, что слова в текстах могут быть разделены только пробелами. Например, для входа `[u'ночь улица фонарь аптека', u'аптека улица фонарь']` должно быть напечатано\n",
    ">аптека 2\n",
    "\n",
    ">улица 2\n",
    "\n",
    ">фонарь 2\n",
    "\n",
    ">ночь 1"
   ]
  },
  {
   "cell_type": "markdown",
   "metadata": {},
   "source": [
    "Подсказки:\n",
    "\n",
    "Чтобы разбить каждый из текстов на слова, воспользуйтесь функцией `map`, которая применяет заданную функцию к каждому элементу списка. Например, если бы нужно было каждый из текстов привести к нижнему регистру, то команда выглядела бы так:"
   ]
  },
  {
   "cell_type": "code",
   "execution_count": 6,
   "metadata": {
    "collapsed": false
   },
   "outputs": [
    {
     "data": {
      "text/plain": [
       "['abcdefg', 'hijkl']"
      ]
     },
     "execution_count": 6,
     "metadata": {},
     "output_type": "execute_result"
    }
   ],
   "source": [
    "map(lambda x: x.lower(), [\"abCDefg\", \"HIjkL\"])"
   ]
  },
  {
   "cell_type": "markdown",
   "metadata": {},
   "source": [
    "После первого шага вы получите список, состоящий из списков слов. Чтобы объединить их в один список слов, воспользуйтесь функцией `reduce`. Например, просуммировать числа из списка с ее помощью можно так:\n",
    "\n"
   ]
  },
  {
   "cell_type": "code",
   "execution_count": 7,
   "metadata": {
    "collapsed": false
   },
   "outputs": [
    {
     "data": {
      "text/plain": [
       "15"
      ]
     },
     "execution_count": 7,
     "metadata": {},
     "output_type": "execute_result"
    }
   ],
   "source": [
    "reduce(lambda x, y: x + y, [1, 2, 3, 4, 5])"
   ]
  },
  {
   "cell_type": "markdown",
   "metadata": {},
   "source": [
    "Для подсчета количества вхождений слов воспользуйтесь структурой `defaultdict` из модуля `collections`. В отличие от обычного `dict`, она не генерирует ошибку при обращении к несуществущему ключу, а создает новую запись, инициализируемую нулевым значением. Например:"
   ]
  },
  {
   "cell_type": "code",
   "execution_count": 8,
   "metadata": {
    "collapsed": false
   },
   "outputs": [
    {
     "name": "stdout",
     "output_type": "stream",
     "text": [
      "defaultdict(<type 'int'>, {})\n",
      "defaultdict(<type 'int'>, {'abc': 1})\n",
      "defaultdict(<type 'int'>, {'xxx': 0, 'abc': 1})\n"
     ]
    }
   ],
   "source": [
    "from collections import defaultdict\n",
    "d = defaultdict(int)\n",
    "print d\n",
    "d['abc'] += 1\n",
    "print d\n",
    "d['xxx']\n",
    "print d"
   ]
  },
  {
   "cell_type": "code",
   "execution_count": 9,
   "metadata": {
    "collapsed": false
   },
   "outputs": [
    {
     "name": "stdout",
     "output_type": "stream",
     "text": [
      "аптека 2\n",
      "улица 2\n",
      "фонарь 2\n",
      "ночь 1\n"
     ]
    }
   ],
   "source": [
    "from collections import defaultdict\n",
    "import operator\n",
    "\n",
    "def word_counts(texts):\n",
    "    texts_split = map(operator.methodcaller('split'), texts)\n",
    "    words = reduce(operator.add, texts_split)\n",
    "    d = defaultdict(int)\n",
    "    for w in words:\n",
    "        d[w] += 1\n",
    "    for w in d:\n",
    "        print w, d[w]\n",
    "\n",
    "word_counts([u'ночь улица фонарь аптека', u'аптека улица фонарь'])"
   ]
  },
  {
   "cell_type": "markdown",
   "metadata": {},
   "source": [
    "#### 5. (бонусное задание) Скачайте английский перевод \"Преступления и наказания\". Найдите 20 самых популярных слов и 20 слов, которые встречаются только один раз."
   ]
  },
  {
   "cell_type": "markdown",
   "metadata": {},
   "source": [
    "Приведите текст к нижнему регистру. Разделите текст на слова, считая разделителями все, кроме букв. Обратите внимание на функцию `split` из модуля `re`.\n",
    "\n",
    "Не забудьте удалить пустые слова:\n",
    "```\n",
    "words = filter(lambda x: len(x) > 0, words)\n",
    "```"
   ]
  },
  {
   "cell_type": "code",
   "execution_count": 10,
   "metadata": {
    "collapsed": false
   },
   "outputs": [],
   "source": [
    "from urllib import urlopen\n",
    "url = \"http://www.gutenberg.org/files/2554/2554.txt\"\n",
    "response = urlopen(url)\n",
    "raw_text = response.read().decode('utf8')"
   ]
  },
  {
   "cell_type": "code",
   "execution_count": 11,
   "metadata": {
    "collapsed": false
   },
   "outputs": [
    {
     "data": {
      "text/plain": [
       "u'r five\\r\\nchildren in only two rooms. The father and mother spent their evenings\\r\\nin reading aloud to '"
      ]
     },
     "execution_count": 11,
     "metadata": {},
     "output_type": "execute_result"
    }
   ],
   "source": [
    "raw_text[1000:1100]"
   ]
  },
  {
   "cell_type": "code",
   "execution_count": 12,
   "metadata": {
    "collapsed": false
   },
   "outputs": [
    {
     "name": "stdout",
     "output_type": "stream",
     "text": [
      "20 наиболее популярных слов (слово, число вхождений):\n",
      "the 8003\n",
      "and 7042\n",
      "to 5497\n",
      "he 4900\n",
      "a 4668\n",
      "i 4405\n",
      "you 4118\n",
      "of 3928\n",
      "it 3463\n",
      "that 3308\n",
      "in 3254\n",
      "was 2827\n",
      "his 2116\n",
      "at 2082\n",
      "her 1829\n",
      "but 1801\n",
      "not 1775\n",
      "s 1765\n",
      "with 1757\n",
      "she 1695\n",
      "\n",
      "20 уникальных слов:\n",
      "fawn\n",
      "writings\n",
      "nunnery\n",
      "fedosya\n",
      "clotted\n",
      "preface\n",
      "cyprus\n",
      "increase\n",
      "wheeled\n",
      "superficially\n",
      "meadows\n",
      "fogeys\n",
      "anaemic\n",
      "straws\n",
      "busybody\n",
      "reliable\n",
      "scraped\n",
      "errors\n",
      "cooking\n",
      "contributed\n"
     ]
    }
   ],
   "source": [
    "import re\n",
    "from collections import defaultdict\n",
    "from operator import itemgetter, methodcaller\n",
    "\n",
    "words = re.findall('[a-zA-Z]+', raw_text)   # решил использовать findall, а не split,\n",
    "                                            # т.к. эта команда удаляет и пустые слова.\n",
    "words = map(methodcaller('lower'), words)\n",
    "d = defaultdict(int)\n",
    "for w in words:\n",
    "    d[w] += 1\n",
    "words_list = d.items()\n",
    "sorted_words_list = sorted(words_list, key=itemgetter(1), reverse=True)\n",
    "most_popular = sorted_words_list[:20]\n",
    "print u\"20 наиболее популярных слов (слово, число вхождений):\"\n",
    "for w, occurs in most_popular[:20]:\n",
    "    print w, occurs\n",
    "print\n",
    "\n",
    "unique_words = filter(lambda x: x[1] == 1, words_list)\n",
    "print u\"20 уникальных слов:\"\n",
    "for w, occur in unique_words[:20]:\n",
    "    print w"
   ]
  },
  {
   "cell_type": "markdown",
   "metadata": {},
   "source": [
    "## Часть 2: NumPy и SciPy"
   ]
  },
  {
   "cell_type": "markdown",
   "metadata": {},
   "source": [
    "#### 1. Повторите 1000 раз следующий эксперимент: сгенерируйте две матрицы размера $10 \\times 10$ из стандартного нормального распределения, перемножьте их (как матрицы) и найдите максимальный элемент. Какое среднее значение по экспериментам у максимальных элементов? 95-процентная квантиль?"
   ]
  },
  {
   "cell_type": "markdown",
   "metadata": {},
   "source": [
    "Для вычисления квантили воспользуйтесь функцией `np.percentile`"
   ]
  },
  {
   "cell_type": "code",
   "execution_count": 13,
   "metadata": {
    "collapsed": false
   },
   "outputs": [
    {
     "name": "stdout",
     "output_type": "stream",
     "text": [
      "Среднее значение по экспериментам:  8.43580868461\n",
      "95-я перцентиль:  11.8194892201\n"
     ]
    }
   ],
   "source": [
    "import numpy as np\n",
    "\n",
    "def myExperiment():\n",
    "    A = np.random.normal(0, 1, (10, 10))\n",
    "    B = np.random.normal(0, 1, (10, 10))\n",
    "    C = A.dot(B)\n",
    "    return C.max()\n",
    "\n",
    "results = [myExperiment() for i in xrange(1000)]\n",
    "print \"Среднее значение по экспериментам: \", np.mean(results)\n",
    "print \"95-я перцентиль: \", np.percentile(results, 95)"
   ]
  },
  {
   "cell_type": "markdown",
   "metadata": {},
   "source": [
    "#### 2. Сгенерируйте 1000 чисел из распределения Пуассона с параметром $\\lambda = 5$. Сформируйте массив, в котором в i-м элементе будет записано количество сгенерированных чисел, равных i."
   ]
  },
  {
   "cell_type": "markdown",
   "metadata": {},
   "source": [
    "Обратите внимание на функцию `np.bincount`"
   ]
  },
  {
   "cell_type": "code",
   "execution_count": 14,
   "metadata": {
    "collapsed": false
   },
   "outputs": [
    {
     "data": {
      "text/plain": [
       "array([ 10,  41,  94, 135, 177, 186, 130,  93,  72,  34,  13,  12,   1,   2])"
      ]
     },
     "execution_count": 14,
     "metadata": {},
     "output_type": "execute_result"
    }
   ],
   "source": [
    "pois = np.random.poisson(5, 1000)\n",
    "occur = np.bincount(pois)\n",
    "occur"
   ]
  },
  {
   "cell_type": "markdown",
   "metadata": {},
   "source": [
    "#### 3. Реализуйте функцию, которая принимает на вход numpy-массив целых чисел `a`, и генерирует массив, в котором число `i` встречается `a[i]` раз. Протестируйте на результате из прошлого задания."
   ]
  },
  {
   "cell_type": "markdown",
   "metadata": {},
   "source": [
    "Обратите внимание на функцию `np.repeat`"
   ]
  },
  {
   "cell_type": "code",
   "execution_count": 15,
   "metadata": {
    "collapsed": false
   },
   "outputs": [
    {
     "data": {
      "text/plain": [
       "True"
      ]
     },
     "execution_count": 15,
     "metadata": {},
     "output_type": "execute_result"
    }
   ],
   "source": [
    "def my_function(a):\n",
    "    result = np.array([], dtype='int64')\n",
    "    for i, cnt in enumerate(a):\n",
    "        result = np.append(result, np.repeat(i, cnt))\n",
    "    return result\n",
    "\n",
    "pois = np.random.poisson(5, 1000)\n",
    "occur = np.bincount(pois)\n",
    "result_of_func = my_function(occur)\n",
    "result_of_func\n",
    "np.all(np.bincount(result_of_func) == occur)"
   ]
  },
  {
   "cell_type": "markdown",
   "metadata": {},
   "source": [
    "#### 4. Напишите функцию `scale(X)`, которая принимает на вход матрицу и масштабирует каждый ее столбец (вычитает среднее и делит на стандартное отклонение). Убедитесь, что в функции не будет происходить деления на ноль. Протестируйте на каких-нибудь данных."
   ]
  },
  {
   "cell_type": "code",
   "execution_count": 16,
   "metadata": {
    "collapsed": false
   },
   "outputs": [],
   "source": [
    "def scale(X):\n",
    "    X_std = X.std(axis=1)[:, np.newaxis]\n",
    "    X_std[X_std == 0] = 1\n",
    "    Y = (X - X.mean(axis=1)[:, np.newaxis]) / X_std\n",
    "    return Y"
   ]
  },
  {
   "cell_type": "code",
   "execution_count": 17,
   "metadata": {
    "collapsed": false
   },
   "outputs": [
    {
     "name": "stdout",
     "output_type": "stream",
     "text": [
      "[  8.68583698   9.08281097  12.86028068   7.31603139   6.79483504\n",
      "   7.29101547  14.38881581   4.47863639  10.026155     8.60250591]\n",
      "[  8.93915794   8.9516937   10.7406392    9.27120028   9.50517201\n",
      "   9.31213578   8.70475688  12.40081354  13.62197301   7.99754485]\n",
      "[  2.22044605e-17   4.44089210e-17  -2.22044605e-16   1.55431223e-16\n",
      "  -4.44089210e-17   5.68989300e-17   3.88578059e-17   4.44089210e-17\n",
      "   0.00000000e+00   2.22044605e-16]\n",
      "[ 1.  1.  1.  1.  1.  1.  1.  1.  1.  1.]\n"
     ]
    }
   ],
   "source": [
    "A = np.empty((10, 10))\n",
    "for i in xrange(10):\n",
    "    A[:, i] = np.random.normal(i * 2, i + 5, (1, 10))\n",
    "print A.mean(axis=1)\n",
    "print A.std(axis=1)\n",
    "\n",
    "A = scale(A)\n",
    "print A.mean(axis=1)\n",
    "print A.std(axis=1)"
   ]
  },
  {
   "cell_type": "markdown",
   "metadata": {},
   "source": [
    "#### 5. Сгенерируйте матрицу с элементами из нормального распределения $\\mathcal{N}(10, 1)$. Найдите ее:\n",
    "- определитель\n",
    "- след\n",
    "- наименьший и наибольший элементы\n",
    "- спектральную норму\n",
    "- норму Фробениуса\n",
    "- собственные числа\n",
    "- обратную матрицу"
   ]
  },
  {
   "cell_type": "code",
   "execution_count": 18,
   "metadata": {
    "collapsed": false
   },
   "outputs": [
    {
     "name": "stdout",
     "output_type": "stream",
     "text": [
      "определитель:  -0.00737507005338\n",
      "след:  4.86474784718\n",
      "наименьший и наибольший элементы:  0.98917233843 0.000142486107468\n",
      "спектральную норму:  4.90290414179\n",
      "норму Фробениуса:  5.51766493431\n",
      "собственные числа:  [ 4.80847777+0.j         -0.65655027+0.26490953j -0.65655027-0.26490953j\n",
      "  0.63806594+0.1382912j   0.63806594-0.1382912j   0.21375218+0.55106034j\n",
      "  0.21375218-0.55106034j -0.13220888+0.52603224j -0.13220888-0.52603224j\n",
      " -0.06984787+0.j        ]\n",
      "обратную матрицу:  [[  8.1276184    4.11796635   2.40379489  -0.3998335   -2.65624879\n",
      "    2.88969719 -13.06052897   1.12869451   3.87623048  -5.88820427]\n",
      " [ -3.56007474  -3.19489321  -1.87962021  -0.13089877   1.99350748\n",
      "   -0.45281045   6.22895636  -0.75157129  -2.17460062   3.52733405]\n",
      " [  0.8516859    2.46194989   0.65012309   0.80287921  -0.92407143\n",
      "    0.53909934  -3.10874802  -0.22757767   0.98818961  -1.59003245]\n",
      " [ -0.1588884    0.29879521   0.57085569   0.08391845  -0.03035374\n",
      "    0.55319711   0.36399454  -0.842574    -0.64672306  -0.06668526]\n",
      " [ -2.33801932  -0.57632101   0.41291512   0.8758631    0.9778878\n",
      "   -1.09767973   3.00639244  -0.57606376  -1.06578632   0.63950675]\n",
      " [ -0.27649254  -0.21478133  -0.91756765  -0.52009477  -0.04314637\n",
      "   -0.83725752   1.60422192   1.41442317  -0.33448034   0.55551076]\n",
      " [ 13.17739894   5.65450519   3.76446945  -0.0991369   -6.19597694\n",
      "    3.79145896 -20.25048529   4.0444727    6.2133295   -9.05661073]\n",
      " [ -4.11633643  -3.38822709  -1.78539667  -0.39314993   2.21271782\n",
      "   -2.28925962   8.65896722  -0.93054455  -2.40822906   4.4863607 ]\n",
      " [ -5.83457414  -2.71054608  -2.1912145    0.31677003   3.11286814\n",
      "   -1.35033246   9.43882926  -2.07594034  -1.76856598   2.97651658]\n",
      " [ -5.49455188  -1.97935684  -0.79574217  -0.34894819   2.41036508\n",
      "   -0.85347385   6.80389215  -1.90709879  -1.97769862   3.73233278]]\n"
     ]
    }
   ],
   "source": [
    "from scipy import linalg as la\n",
    "\n",
    "A = np.random.rand(10, 10)\n",
    "print 'определитель: ', la.det(A)\n",
    "print 'след: ', np.trace(A)\n",
    "print 'наименьший и наибольший элементы: ', A.max(), A.min()\n",
    "print 'спектральную норму: ', la.norm(A, 2)\n",
    "print 'норму Фробениуса: ', la.norm(A)\n",
    "print 'собственные числа: ', la.eigvals(A)\n",
    "print 'обратную матрицу: ', la.inv(A)"
   ]
  },
  {
   "cell_type": "markdown",
   "metadata": {},
   "source": [
    "## Часть 3: Pandas"
   ]
  },
  {
   "cell_type": "markdown",
   "metadata": {},
   "source": [
    "#### Ответьте на вопросы о данных по авиарейсам в США за январь-апрель 2008 года.\n",
    "\n",
    "Данные: http://stat-computing.org/dataexpo/2009/2008.csv.bz2\n",
    "(обратите внимание, что распаковывать этот файл не обязательно — функция `pandas.read_csv` умеет читать из архивов автоматически)\n",
    "\n",
    "Описание: http://stat-computing.org/dataexpo/2009/the-data.html\n",
    "\n",
    "1. Какая из причин отмены рейса (`CancellationCode`) была самой частой? (расшифровки кодов можно найти в описании данных)\n",
    "2. Найдите среднее, минимальное и максимальное расстояние, пройденное самолетом.\n",
    "3. Не выглядит ли подозрительным минимальное пройденное расстояние? В какие дни и на каких рейсах оно было? Какое расстояние было пройдено этими же рейсами в другие дни?\n",
    "4. Из какого аэропорта было произведено больше всего вылетов? В каком городе он находится?\n",
    "5. Найдите для каждого аэропорта среднее время полета (`AirTime`) по всем вылетевшим из него рейсам. Какой аэропорт имеет наибольшее значение этого показателя?\n",
    "6. Найдите аэропорт, у которого наибольшая доля задержанных (`DepDelay > 0`) рейсов. Исключите при этом из рассмотрения аэропорты, из которых было отправлено меньше 1000 рейсов (используйте функцию `filter` после `groupby`)."
   ]
  },
  {
   "cell_type": "code",
   "execution_count": 19,
   "metadata": {
    "collapsed": false
   },
   "outputs": [
    {
     "name": "stdout",
     "output_type": "stream",
     "text": [
      "1. Самая частая причина отмены рейса:  weather\n"
     ]
    }
   ],
   "source": [
    "import pandas as pd\n",
    "\n",
    "df = pd.read_csv(u\"2008.csv\")\n",
    "# 1\n",
    "code_meaning = {'A': 'carrier', 'B': 'weather', 'C': 'NAS', 'D': 'security'}\n",
    "cancel_code = df.CancellationCode.value_counts().idxmax()\n",
    "print \"1. Самая частая причина отмены рейса: \", code_meaning[cancel_code]"
   ]
  },
  {
   "cell_type": "code",
   "execution_count": 20,
   "metadata": {
    "collapsed": false
   },
   "outputs": [
    {
     "name": "stdout",
     "output_type": "stream",
     "text": [
      "2. Среднее, минимальное и максимальное расстояние, пройденное самолетом:  726.387029425 11 4962\n"
     ]
    }
   ],
   "source": [
    "# 2\n",
    "print \"2. Среднее, минимальное и максимальное расстояние, пройденное самолетом: \", \\\n",
    "      df.Distance.mean(), df.Distance.min(), df.Distance.max()"
   ]
  },
  {
   "cell_type": "code",
   "execution_count": 21,
   "metadata": {
    "collapsed": false
   },
   "outputs": [
    {
     "name": "stdout",
     "output_type": "stream",
     "text": [
      "3. Случаи, когда пройденное самолетом расстояние было минимальным:\n",
      "         Year  Month  DayofMonth UniqueCarrier  FlightNum\n",
      "2547298  2008      5          15            OH       4988\n",
      "4392215  2008      8          10            OH       5572\n",
      "\n",
      "Расстояние, пройденное этими же рейсами в другие дни: [96, 544, 834]\n"
     ]
    }
   ],
   "source": [
    "# 3\n",
    "min_dist_records = df.loc[df.Distance == df.Distance.min()]\n",
    "print \"3. Случаи, когда пройденное самолетом расстояние было минимальным:\"\n",
    "print min_dist_records[['Year', 'Month', 'DayofMonth', 'UniqueCarrier', 'FlightNum']]\n",
    "\n",
    "selected_flights = min_dist_records[['FlightNum', 'UniqueCarrier']]\n",
    "sel_flights_distances = df[df.FlightNum.isin(selected_flights.FlightNum) & \n",
    "                           df.UniqueCarrier.isin(selected_flights.UniqueCarrier)].Distance\n",
    "sel_flights_distances = sel_flights_distances.unique()\n",
    "print \"\\nРасстояние, пройденное этими же рейсами в другие дни:\", \\\n",
    "    sorted(sel_flights_distances[sel_flights_distances != df.Distance.min()])"
   ]
  },
  {
   "cell_type": "code",
   "execution_count": 22,
   "metadata": {
    "collapsed": false
   },
   "outputs": [
    {
     "name": "stdout",
     "output_type": "stream",
     "text": [
      "Больше всего было вылетов из аэропорта William B Hartsfield-Atlanta Intl, код ATL, город Atlanta, страна USA\n"
     ]
    }
   ],
   "source": [
    "# 4\n",
    "\n",
    "airport_url = 'http://stat-computing.org/dataexpo/2009/airports.csv'\n",
    "ap_df = pd.read_csv(airport_url, index_col='iata')\n",
    "most_freq_ap_code = df.Origin.value_counts().idxmax()\n",
    "most_freq_ap = ap_df.ix[most_freq_ap_code]\n",
    "print \"Больше всего было вылетов из аэропорта {}, код {}, город {}, страна {}\".format(most_freq_ap.airport,\n",
    "                                                                                     most_freq_ap_code,\n",
    "                                                                                     most_freq_ap.city,\n",
    "                                                                                     most_freq_ap.country)"
   ]
  },
  {
   "cell_type": "code",
   "execution_count": 23,
   "metadata": {
    "collapsed": false
   },
   "outputs": [
    {
     "name": "stdout",
     "output_type": "stream",
     "text": [
      "Аэропорт - среднее время полета по всем вылетевшим из него рейсам:\n",
      "Origin\n",
      "ABE     89.057518\n",
      "ABI     36.789977\n",
      "ABQ     91.657166\n",
      "ABY     35.379759\n",
      "ACK     50.692124\n",
      "ACT     29.875977\n",
      "ACV     58.850658\n",
      "ACY    108.848214\n",
      "ADK    151.423913\n",
      "ADQ     41.987934\n",
      "AEX     68.543556\n",
      "AGS     36.933814\n",
      "AKN     37.321429\n",
      "ALB    101.860527\n",
      "ALO     36.373134\n",
      "AMA     56.196001\n",
      "ANC    156.163749\n",
      "ASE     48.307996\n",
      "ATL     93.320419\n",
      "ATW     50.696326\n",
      "AUS    101.266600\n",
      "AVL     69.899021\n",
      "AVP     94.665204\n",
      "AZO     34.846602\n",
      "BDL    118.701612\n",
      "BET     57.597815\n",
      "BFL     64.024511\n",
      "BGM     66.582260\n",
      "BGR     90.211095\n",
      "BHM     82.290713\n",
      "          ...    \n",
      "SPS     29.490040\n",
      "SRQ    103.083807\n",
      "STL     99.294409\n",
      "STT    168.681929\n",
      "STX    168.101176\n",
      "SUN     48.221851\n",
      "SUX     44.918919\n",
      "SWF    132.768826\n",
      "SYR     84.524087\n",
      "TEX     93.124183\n",
      "TLH     59.293080\n",
      "TOL     48.295047\n",
      "TPA    117.917963\n",
      "TRI     47.871046\n",
      "TUL     80.876802\n",
      "TUP     42.900000\n",
      "TUS     92.801864\n",
      "TVC     49.328770\n",
      "TWF     41.316563\n",
      "TXK     43.796312\n",
      "TYR     30.372715\n",
      "TYS     81.030894\n",
      "VLD     45.158351\n",
      "VPS     75.231116\n",
      "WRG     16.741606\n",
      "WYS     62.961977\n",
      "XNA     84.253180\n",
      "YAK     36.372159\n",
      "YKM     80.697329\n",
      "YUM     48.876952\n",
      "Name: AirTime, dtype: float64\n",
      "\n",
      "Наибольшее среднее время полета по всем вылетевшим рейсам было из аэропорта Luis Munoz Marin International, код SJU, город San Juan, страна USA\n"
     ]
    }
   ],
   "source": [
    "# 5\n",
    "\n",
    "mean_airtime = df.groupby('Origin').AirTime.mean()\n",
    "print \"Аэропорт - среднее время полета по всем вылетевшим из него рейсам:\"\n",
    "print mean_airtime\n",
    "print \n",
    "ap_max_code = mean_airtime.idxmax()\n",
    "ap_max = ap_df.ix[ap_max_code]\n",
    "print \"Наибольшее среднее время полета по всем вылетевшим рейсам было \" \\\n",
    "    \"из аэропорта {}, код {}, город {}, страна {}\".format(ap_max.airport, ap_max_code, ap_max.city, ap_max.country)"
   ]
  },
  {
   "cell_type": "code",
   "execution_count": 24,
   "metadata": {
    "collapsed": false
   },
   "outputs": [
    {
     "name": "stdout",
     "output_type": "stream",
     "text": [
      "Аэропорт, у которого наибольшая доля задержанных (DepDelay > 0) рейсов: Pueblo Memorial, код PUB, город Pueblo, страна USA\n"
     ]
    }
   ],
   "source": [
    "# 6\n",
    "\n",
    "filtered_stats = df.groupby('Origin').filter(lambda _df: np.sum(_df.DepDelay) >= 1000)\n",
    "ap_delay_stats = df.groupby('Origin').DepDelay.apply(lambda s: np.sum(s > 0) / float(len(s)))\n",
    "ap_w_max_delayed_code = ap_delay_stats.idxmax()\n",
    "ap_w_max_delayed = ap_df.ix[ap_w_max_delayed_code]\n",
    "print \"Аэропорт, у которого наибольшая доля задержанных (DepDelay > 0) рейсов: \" \\\n",
    "      \"{}, код {}, город {}, страна {}\".format(ap_w_max_delayed.airport, ap_w_max_delayed_code,\n",
    "                                              ap_w_max_delayed.city, ap_w_max_delayed.country)"
   ]
  },
  {
   "cell_type": "code",
   "execution_count": null,
   "metadata": {
    "collapsed": true
   },
   "outputs": [],
   "source": []
  }
 ],
 "metadata": {
  "kernelspec": {
   "display_name": "Python 2",
   "language": "python",
   "name": "python2"
  },
  "language_info": {
   "codemirror_mode": {
    "name": "ipython",
    "version": 2
   },
   "file_extension": ".py",
   "mimetype": "text/x-python",
   "name": "python",
   "nbconvert_exporter": "python",
   "pygments_lexer": "ipython2",
   "version": "2.7.9"
  }
 },
 "nbformat": 4,
 "nbformat_minor": 0
}
