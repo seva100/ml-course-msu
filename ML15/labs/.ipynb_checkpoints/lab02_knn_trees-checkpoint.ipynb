{
 "cells": [
  {
   "cell_type": "markdown",
   "metadata": {
    "collapsed": true
   },
   "source": [
    "# Лабораторная работа 2. Метод ближайших соседей и решающие деревья."
   ]
  },
  {
   "cell_type": "markdown",
   "metadata": {},
   "source": [
    "ФИО: Севастопольский Артем\n",
    "\n",
    "Группа: 317"
   ]
  },
  {
   "cell_type": "code",
   "execution_count": 84,
   "metadata": {
    "collapsed": false
   },
   "outputs": [],
   "source": [
    "from functools import partial\n",
    "import numpy as np\n",
    "import pandas as pd\n",
    "import matplotlib.pyplot as plt\n",
    "%matplotlib inline\n",
    "from scipy.spatial.distance import cdist\n",
    "from sklearn import metrics, cross_validation, tree, ensemble"
   ]
  },
  {
   "cell_type": "markdown",
   "metadata": {},
   "source": [
    "Все эксперименты в этой лабораторной работе предлагается проводить на данных соревнования Amazon Employee Access Challenge: https://www.kaggle.com/c/amazon-employee-access-challenge\n",
    "\n",
    "В данной задаче предлагается предсказать, будет ли одобрен запрос сотрудника на получение доступа к тому или иному ресурсу. Все признаки являются категориальными.\n",
    "\n",
    "Для удобства данные можно загрузить по ссылке: https://www.dropbox.com/s/q6fbs1vvhd5kvek/amazon.csv\n",
    "\n",
    "Сразу прочитаем данные и создадим разбиение на обучение и контроль:"
   ]
  },
  {
   "cell_type": "code",
   "execution_count": 2,
   "metadata": {
    "collapsed": false
   },
   "outputs": [
    {
     "data": {
      "text/html": [
       "<div>\n",
       "<table border=\"1\" class=\"dataframe\">\n",
       "  <thead>\n",
       "    <tr style=\"text-align: right;\">\n",
       "      <th></th>\n",
       "      <th>ACTION</th>\n",
       "      <th>RESOURCE</th>\n",
       "      <th>MGR_ID</th>\n",
       "      <th>ROLE_ROLLUP_1</th>\n",
       "      <th>ROLE_ROLLUP_2</th>\n",
       "      <th>ROLE_DEPTNAME</th>\n",
       "      <th>ROLE_TITLE</th>\n",
       "      <th>ROLE_FAMILY_DESC</th>\n",
       "      <th>ROLE_FAMILY</th>\n",
       "      <th>ROLE_CODE</th>\n",
       "    </tr>\n",
       "  </thead>\n",
       "  <tbody>\n",
       "    <tr>\n",
       "      <th>0</th>\n",
       "      <td>1</td>\n",
       "      <td>39353</td>\n",
       "      <td>85475</td>\n",
       "      <td>117961</td>\n",
       "      <td>118300</td>\n",
       "      <td>123472</td>\n",
       "      <td>117905</td>\n",
       "      <td>117906</td>\n",
       "      <td>290919</td>\n",
       "      <td>117908</td>\n",
       "    </tr>\n",
       "    <tr>\n",
       "      <th>1</th>\n",
       "      <td>1</td>\n",
       "      <td>17183</td>\n",
       "      <td>1540</td>\n",
       "      <td>117961</td>\n",
       "      <td>118343</td>\n",
       "      <td>123125</td>\n",
       "      <td>118536</td>\n",
       "      <td>118536</td>\n",
       "      <td>308574</td>\n",
       "      <td>118539</td>\n",
       "    </tr>\n",
       "    <tr>\n",
       "      <th>2</th>\n",
       "      <td>1</td>\n",
       "      <td>36724</td>\n",
       "      <td>14457</td>\n",
       "      <td>118219</td>\n",
       "      <td>118220</td>\n",
       "      <td>117884</td>\n",
       "      <td>117879</td>\n",
       "      <td>267952</td>\n",
       "      <td>19721</td>\n",
       "      <td>117880</td>\n",
       "    </tr>\n",
       "    <tr>\n",
       "      <th>3</th>\n",
       "      <td>1</td>\n",
       "      <td>36135</td>\n",
       "      <td>5396</td>\n",
       "      <td>117961</td>\n",
       "      <td>118343</td>\n",
       "      <td>119993</td>\n",
       "      <td>118321</td>\n",
       "      <td>240983</td>\n",
       "      <td>290919</td>\n",
       "      <td>118322</td>\n",
       "    </tr>\n",
       "    <tr>\n",
       "      <th>4</th>\n",
       "      <td>1</td>\n",
       "      <td>42680</td>\n",
       "      <td>5905</td>\n",
       "      <td>117929</td>\n",
       "      <td>117930</td>\n",
       "      <td>119569</td>\n",
       "      <td>119323</td>\n",
       "      <td>123932</td>\n",
       "      <td>19793</td>\n",
       "      <td>119325</td>\n",
       "    </tr>\n",
       "  </tbody>\n",
       "</table>\n",
       "</div>"
      ],
      "text/plain": [
       "   ACTION  RESOURCE  MGR_ID  ROLE_ROLLUP_1  ROLE_ROLLUP_2  ROLE_DEPTNAME  \\\n",
       "0       1     39353   85475         117961         118300         123472   \n",
       "1       1     17183    1540         117961         118343         123125   \n",
       "2       1     36724   14457         118219         118220         117884   \n",
       "3       1     36135    5396         117961         118343         119993   \n",
       "4       1     42680    5905         117929         117930         119569   \n",
       "\n",
       "   ROLE_TITLE  ROLE_FAMILY_DESC  ROLE_FAMILY  ROLE_CODE  \n",
       "0      117905            117906       290919     117908  \n",
       "1      118536            118536       308574     118539  \n",
       "2      117879            267952        19721     117880  \n",
       "3      118321            240983       290919     118322  \n",
       "4      119323            123932        19793     119325  "
      ]
     },
     "execution_count": 2,
     "metadata": {},
     "output_type": "execute_result"
    }
   ],
   "source": [
    "data = pd.read_csv('amazon.csv')\n",
    "data.head()"
   ]
  },
  {
   "cell_type": "code",
   "execution_count": 3,
   "metadata": {
    "collapsed": false
   },
   "outputs": [
    {
     "data": {
      "text/plain": [
       "(32769, 10)"
      ]
     },
     "execution_count": 3,
     "metadata": {},
     "output_type": "execute_result"
    }
   ],
   "source": [
    "data.shape"
   ]
  },
  {
   "cell_type": "code",
   "execution_count": 4,
   "metadata": {
    "collapsed": false
   },
   "outputs": [
    {
     "data": {
      "text/plain": [
       "0.94210992096188473"
      ]
     },
     "execution_count": 4,
     "metadata": {},
     "output_type": "execute_result"
    }
   ],
   "source": [
    "# доля положительных примеров\n",
    "data.ACTION.mean()"
   ]
  },
  {
   "cell_type": "code",
   "execution_count": 5,
   "metadata": {
    "collapsed": false
   },
   "outputs": [
    {
     "name": "stdout",
     "output_type": "stream",
     "text": [
      "ACTION 2\n",
      "RESOURCE 7518\n",
      "MGR_ID 4243\n",
      "ROLE_ROLLUP_1 128\n",
      "ROLE_ROLLUP_2 177\n",
      "ROLE_DEPTNAME 449\n",
      "ROLE_TITLE 343\n",
      "ROLE_FAMILY_DESC 2358\n",
      "ROLE_FAMILY 67\n",
      "ROLE_CODE 343\n"
     ]
    }
   ],
   "source": [
    "# число значений у признаков\n",
    "for col_name in data.columns:\n",
    "    print col_name, len(data[col_name].unique())"
   ]
  },
  {
   "cell_type": "code",
   "execution_count": 6,
   "metadata": {
    "collapsed": true
   },
   "outputs": [],
   "source": [
    "from sklearn.cross_validation import train_test_split\n",
    "X_train, X_test, y_train, y_test = train_test_split(data.iloc[:, 1:], data.iloc[:, 0],\n",
    "                                                    test_size=0.3, random_state=241)\n",
    "features = X_train.shape[1]"
   ]
  },
  {
   "cell_type": "markdown",
   "metadata": {},
   "source": [
    "## Часть 1: kNN и категориальные признаки"
   ]
  },
  {
   "cell_type": "markdown",
   "metadata": {},
   "source": [
    "#### 1. Реализуйте три функции расстояния на категориальных признаках, которые обсуждались на втором семинаре. Реализуйте самостоятельно метод k ближайших соседей, который будет уметь работать с этими функциями расстояния. Подсчитайте для каждой из них качество на тестовой выборке `X_test` при числе соседей $k = 10$. Метрика качества — AUC-ROC.\n",
    "\n",
    "Какая функция расстояния оказалась лучшей?"
   ]
  },
  {
   "cell_type": "code",
   "execution_count": 103,
   "metadata": {
    "collapsed": false
   },
   "outputs": [],
   "source": [
    "import bisect\n",
    "\n",
    "class CategoricalDistanceCounter(object):\n",
    "    def __init__(self, X_train):\n",
    "        self.objects, self.features = X_train.shape\n",
    "        self.counts = [pd.value_counts(X_train[col]) for col in X_train.columns]\n",
    "        # `counts[i]` is a Series that shows how many times value `i` appears in col № i.\n",
    "        # `counts` depends on X_train.\n",
    "        self.counts_dict = [cnt.to_dict() for cnt in self.counts]\n",
    "        self.prob = [(cnt / len(X_train)).sort(inplace=False).to_dict() \n",
    "                     for cnt in self.counts]\n",
    "        self.prob_vals = map(lambda d: np.array(d.values()), self.prob)\n",
    "        self.prob_hit = [cnt * (cnt - 1) / self.objects / (self.objects - 1) \n",
    "                         for cnt in self.counts]\n",
    "        # `prob_hit` is estimate of probability that two objects have the same feature value.\n",
    "        self.prob_hit_cumsum = [np.hstack(([0], np.array(ar).cumsum()))\n",
    "                                for ar in self.prob_hit]\n",
    "    \n",
    "    def dist(self, p, q, weights=None, dist_type=None):\n",
    "        '''Accepts dist_type=1, 2 or 3.\n",
    "        p, q and weights should be numpy vectors of the same length.\n",
    "        '''\n",
    "        dist = None\n",
    "        if dist_type == 1:\n",
    "            diff = (p != q).astype(int)\n",
    "        elif dist_type == 2:\n",
    "            p_prob = [self.prob[i].get(p[i], 0)\n",
    "                      for i in range(self.features)]\n",
    "            last_pos = [bisect.bisect_right(self.prob_vals[i], p_prob[i])\n",
    "                        for i in range(self.features)]\n",
    "            appr_prob = [self.prob_hit_cumsum[i][last_pos[i]]\n",
    "                         for i in range(self.features)]\n",
    "            diff = np.where(p != q, 1, appr_prob)\n",
    "        elif dist_type == 3:\n",
    "            diff = (p != q).astype(int) * np.log([self.counts_dict[i].get(p[i], 0)\n",
    "                                                  for i in range(self.features)]) * \\\n",
    "                np.log([self.counts_dict[i].get(q[i], 0)\n",
    "                        for i in range(self.features)])\n",
    "        else:\n",
    "            raise Exception('Wrong metric')\n",
    "        dist = np.sum(weights * diff)\n",
    "        return dist\n",
    "\n",
    "\n",
    "def knn_predict(X_train, y_train, X_test, pairwise_dist, K=10):\n",
    "    '''Returns predictions on X_test w.r.t. X_train, y_train, \n",
    "    X_test, matrix of pairwise distances pairwise_dist and K neighbors.\n",
    "    pairwise_dist -- matrix, (ij) = dist from X_test.iloc[i] to X_train.iloc[j].\n",
    "    '''\n",
    "    # for each row in X_test,\n",
    "    #    get k closest rows in X_train and\n",
    "    #    see which class presents the majority of neighbors\n",
    "    #    this is the answer for this row of X_test\n",
    "    print \"knn_predict started\"\n",
    "    y_pred = pd.Series(index=X_test.index)\n",
    "    handled = 0\n",
    "    for obj_idx in X_test.index:\n",
    "        knn = np.argpartition(pairwise_dist[handled, :], K, axis=0)\n",
    "        knn_class = y_train.iloc[knn]\n",
    "        y_pred[obj_idx] = knn_class.value_counts().idxmax()\n",
    "        handled += 1\n",
    "        print '\\r{}'.format(handled),\n",
    "    print\n",
    "    return y_pred"
   ]
  },
  {
   "cell_type": "code",
   "execution_count": null,
   "metadata": {
    "collapsed": false
   },
   "outputs": [],
   "source": [
    "#dist_cntr = CategoricalDistanceCounter(X_train)\n",
    "#print dist_cntr.dist(np.array([1, 3, 1]), np.array([3, 2, 1]), np.ones(3), dist_type=1)\n",
    "#for k in range(1, 4):\n",
    "#    print dist_cntr.dist(np.array(X_train.iloc[0]), np.array(X_train.iloc[1]), \n",
    "#                         np.ones(X_train.shape[1]), dist_type=k)\n",
    "\n",
    "dist_cntr = CategoricalDistanceCounter(X_train[:20])\n",
    "y_pred = []\n",
    "for d in range(1, 4):\n",
    "    pairwise_dist = cdist(X_test, X_train, \n",
    "                          partial(dist_cntr.dist, weights=np.ones(features), dist_type=d))\n",
    "    y_pred.append(knn_predict(X_train, y_train, X_test, pairwise_dist))\n",
    "\n",
    "\n",
    "#import cProfile\n",
    "#cProfile.run('knn_predict(X_train, y_train, X_test[:1], '\n",
    "#             '            metric=partial(dist_cntr.dist, weights=np.ones(features), '\n",
    "#             '                           dist_type=2))')\n",
    "\n",
    "#print(X_test.iloc[3])\n",
    "#print(sorted(list(dist_cntr.prob[0].index)))\n",
    "#print dist_cntr.dist(X_test.iloc[3], X_train.iloc[0], np.ones(features), 2)"
   ]
  },
  {
   "cell_type": "code",
   "execution_count": null,
   "metadata": {
    "collapsed": false
   },
   "outputs": [],
   "source": []
  },
  {
   "cell_type": "code",
   "execution_count": 9,
   "metadata": {
    "collapsed": false
   },
   "outputs": [
    {
     "data": {
      "text/plain": [
       "'\\nfor d in range(1, 4):\\n    score = roc_auc_score(y_test, y_pred[d])\\n    print \"AUC-ROC score for dist_type={}: {}\".format(d, score)\\n'"
      ]
     },
     "execution_count": 9,
     "metadata": {},
     "output_type": "execute_result"
    }
   ],
   "source": [
    "for d in range(1, 4):\n",
    "    score = roc_auc_score(y_test, y_pred[d])\n",
    "    print \"AUC-ROC score for dist_type={}: {}\".format(d, score)\n"
   ]
  },
  {
   "cell_type": "markdown",
   "metadata": {},
   "source": [
    "#### 2 (бонус). Подберите лучшее (на тестовой выборке) число соседей $k$ для каждой из функций расстояния. Какое наилучшее качество удалось достичь?"
   ]
  },
  {
   "cell_type": "code",
   "execution_count": null,
   "metadata": {
    "collapsed": true
   },
   "outputs": [],
   "source": []
  },
  {
   "cell_type": "markdown",
   "metadata": {},
   "source": [
    "#### 3. Реализуйте счетчики (http://blogs.technet.com/b/machinelearning/archive/2015/02/17/big-learning-made-easy-with-counts.aspx), которые заменят категориальные признаки на вещественные.\n",
    "\n",
    "А именно, каждый категориальный признак нужно заменить на три: \n",
    "1. Число `counts` объектов в обучающей выборке с таким же значением признака.\n",
    "2. Число `clicks` объектов первого класса ($y = 1$) в обучающей выборке с таким же значением признака.\n",
    "3. Сглаженное отношение двух предыдущих величин: (`clicks` + 1) / (`counts` + 2).\n",
    "\n",
    "Поскольку признаки, содержащие информацию о целевой переменной, могут привести к переобучению, может оказаться полезным сделать *фолдинг*: разбить обучающую выборку на $n$ частей, и для $i$-й части считать `counts` и `clicks` по всем остальным частям. Для тестовой выборки используются счетчики, посчитанный по всей обучающей выборке. Реализуйте и такой вариант. Можно использовать $n = 3$.\n",
    "\n",
    "#### Посчитайте на тесте AUC-ROC метода $k$ ближайших соседей с евклидовой метрикой для выборки, где категориальные признаки заменены на счетчики. Сравните по AUC-ROC два варианта формирования выборки — с фолдингом и без. Не забудьте подобрать наилучшее число соседей $k$."
   ]
  },
  {
   "cell_type": "code",
   "execution_count": 200,
   "metadata": {
    "collapsed": false
   },
   "outputs": [],
   "source": [
    "def counts(X_train, y_train, X_test):\n",
    "    smooth_X_test = pd.DataFrame(index=X_test.index, columns=X_test.columns) \n",
    "    for col in X_train.columns:\n",
    "        vc = X_train[col].value_counts()\n",
    "        vc_dict = vc.to_dict()\n",
    "        counts = map(lambda el: vc.get(el, 0), X_test[col])\n",
    "        \n",
    "        vc_pos = X_train.ix[y_train == 1, col].value_counts()\n",
    "        vc_pos_dict = vc_pos.to_dict()\n",
    "        clicks = map(lambda el: vc_pos.get(el, 0), X_test[col])\n",
    "        \n",
    "        counts = np.array(counts)\n",
    "        clicks = np.array(clicks)\n",
    "        smooth_X_test[col] = (clicks + 1).astype(float) / (counts + 2)\n",
    "        # storing smooth version of feature in a col with the same name.\n",
    "    return smooth_X_test\n",
    "\n",
    "\n",
    "def knn_folded_with_counts(X_train, y_train, X_test, n_folds=3, K=10):\n",
    "    print \"Preparing folded data set with counts...\"\n",
    "    kf = cross_validation.KFold(n=X_train.shape[0], n_folds=n_folds, shuffle=False)\n",
    "    fold_no = 0\n",
    "    smooth_X_train = pd.DataFrame(index=X_train.index, columns=X_train.columns, data=0.5)\n",
    "    for fold_index, rest_index in kf:\n",
    "        # For fold of train set, counts and clicks are counted based on other parts.\n",
    "        # For test set, counts and clicks are counted based on a whole train set.\n",
    "        Xt_fold, Xt_rest = X_train.iloc[fold_index], X_train.iloc[rest_index]\n",
    "        yt_rest = y_train.iloc[rest_index]\n",
    "        smooth_Xt_fold = counts(Xt_rest, yt_rest, Xt_fold)\n",
    "        smooth_X_train.iloc[fold_index, :] = smooth_Xt_fold\n",
    "    \n",
    "    smooth_X_test = counts(X_train, y_train, X_test)\n",
    "    pairwise_dist_f = cdist(smooth_X_test, smooth_X_train, metric='euclidean')\n",
    "    y_pred_fc = knn_predict(smooth_X_train, y_train, smooth_X_test, pairwise_dist_f, K)\n",
    "    fold_no += 1\n",
    "    score = roc_auc_score(y_test, y_pred_fc)\n",
    "    print 'AUC-ROC with folding: {}'.format(score)\n",
    "    return smooth_X_train, smooth_X_test"
   ]
  },
  {
   "cell_type": "code",
   "execution_count": 201,
   "metadata": {
    "collapsed": false
   },
   "outputs": [
    {
     "name": "stdout",
     "output_type": "stream",
     "text": [
      "AUC-ROC w/o folding:  0.5\n",
      "Preparing folded data set with counts...\n",
      "knn_predict started\n",
      "9831\n",
      "AUC-ROC with folding: 0.5\n"
     ]
    }
   ],
   "source": [
    "#smooth_X_train = counts(X_train, y_train, X_train)\n",
    "#smooth_X_test = counts(X_train, y_train, X_test)\n",
    "#pairwise_dist = cdist(smooth_X_train, smooth_X_test, metric='euclidean')\n",
    "#y_pred_c = knn_predict(X_train, y_train, X_test, pairwise_dist)\n",
    "print \"AUC-ROC w/o folding: \", roc_auc_score(y_test, y_pred_c)\n",
    "smooth_X_train, smooth_X_test = knn_folded_with_counts(X_train, y_train, X_test)"
   ]
  },
  {
   "cell_type": "code",
   "execution_count": 197,
   "metadata": {
    "collapsed": false
   },
   "outputs": [],
   "source": [
    "# Choosing the best k\n",
    "\n",
    "# TODO\n"
   ]
  },
  {
   "cell_type": "markdown",
   "metadata": {},
   "source": [
    "#### 4. Добавьте в исходную выборку парные признаки — то есть для каждой пары $f_i$, $f_j$ исходных категориальных признаков добавьте новый категориальный признак $f_{ij}$, значение которого является конкатенацией значений $f_i$ и $f_j$. Посчитайте счетчики для этой выборки, найдите качество метода $k$ ближайших соседей с наилучшим $k$ (с фолдингом и без)."
   ]
  },
  {
   "cell_type": "code",
   "execution_count": 185,
   "metadata": {
    "collapsed": false
   },
   "outputs": [],
   "source": [
    "def paired(X):\n",
    "    new_X = pd.DataFrame(index=X.index, columns=[])\n",
    "    for i in range(features):\n",
    "        for j in range(i + 1, features):\n",
    "            new_col_name = X.columns[i] + '+' + X.columns[j]\n",
    "            new_X[new_col_name] = (X.iloc[:, i].astype(str) + X.iloc[:, j].astype(str)).astype(int)\n",
    "    return new_X\n",
    "\n",
    "Xp_train = paired(X_train)\n",
    "Xp_test = paired(X_test)"
   ]
  },
  {
   "cell_type": "code",
   "execution_count": 202,
   "metadata": {
    "collapsed": false
   },
   "outputs": [
    {
     "name": "stdout",
     "output_type": "stream",
     "text": [
      "Preparing folded data set with counts...\n",
      "knn_predict started\n",
      "9831\n",
      "AUC-ROC with folding: 0.5\n"
     ]
    }
   ],
   "source": [
    "#dc = CountsDistCounter(Xp_train, y_train)\n",
    "#pairwise_dist_p = dc.dist_for_set(Xp_test)\n",
    "#y_pred_cp = knn_predict(Xp_train, y_train, Xp_test, pairwise_dist_p)\n",
    "#print \"AUC-ROC w/o folding: \", roc_auc_score(y_test, y_pred_cp)\n",
    "smooth_X_train_p, smooth_X_test_p = knn_folded_with_counts(Xp_train, y_train, Xp_test)"
   ]
  },
  {
   "cell_type": "code",
   "execution_count": 204,
   "metadata": {
    "collapsed": false
   },
   "outputs": [],
   "source": [
    "# TODO choose best k\n"
   ]
  },
  {
   "cell_type": "markdown",
   "metadata": {},
   "source": [
    "## Часть 2: Решающие деревья и леса"
   ]
  },
  {
   "cell_type": "markdown",
   "metadata": {},
   "source": [
    "#### 1. Возьмите из предыдущей части выборку с парными признаками, преобразованную с помощью счетчиков без фолдинга. Настройте решающее дерево, подобрав оптимальные значения параметров `max_depth` и `min_samples_leaf`. Какой наилучший AUC-ROC на контроле удалось получить?"
   ]
  },
  {
   "cell_type": "code",
   "execution_count": 209,
   "metadata": {
    "collapsed": false
   },
   "outputs": [
    {
     "name": "stdout",
     "output_type": "stream",
     "text": [
      "Score on Decision Tree:  0.68646931144\n"
     ]
    }
   ],
   "source": [
    "clf = tree.DecisionTreeClassifier(max_depth=None, min_samples_leaf=1, random_state=243)\n",
    "clf.fit(Xp_train, y_train)\n",
    "yp_pred = clf.predict(Xp_test)\n",
    "print \"Score on Decision Tree: \", roc_auc_score(y_test, yp_pred)"
   ]
  },
  {
   "cell_type": "markdown",
   "metadata": {},
   "source": [
    "#### 2. Настройте случайный лес, подобрав оптимальное число деревьев `n_estimators`. Какое качество на тестовой выборке он дает?"
   ]
  },
  {
   "cell_type": "code",
   "execution_count": null,
   "metadata": {
    "collapsed": false
   },
   "outputs": [
    {
     "name": "stdout",
     "output_type": "stream",
     "text": [
      "Score on Random Forest:  0.669502509128\n"
     ]
    }
   ],
   "source": [
    "clf = ensemble.RandomForestClassifier(n_estimators=500, random_state=243)\n",
    "clf.fit(Xp_train, y_train)\n",
    "y_pred = clf.predict(Xp_test)\n",
    "print \"Score on Random Forest: \", roc_auc_score(y_test, y_pred)"
   ]
  },
  {
   "cell_type": "markdown",
   "metadata": {},
   "source": [
    "#### 3. Возьмите выборку с парными признаками, для которой счетчики посчитаны с фолдингом. Обучите на ней случайный лес, подобрав число деревьев. Какое качество на тестовой выборке он дает? Чем вы можете объяснить изменение результата по сравнению с предыдущим пунктом?"
   ]
  },
  {
   "cell_type": "code",
   "execution_count": null,
   "metadata": {
    "collapsed": false
   },
   "outputs": [],
   "source": [
    "clf = ensemble.RandomForestClassifier(n_estimators=5000, random_state=243)\n",
    "clf.fit(smooth_X_train_p, y_train)\n",
    "y_pred_c = clf.predict(smooth_X_test_p)\n",
    "print \"Score on Random Forest using set of counts: \", roc_auc_score(y_test, y_pred_c)"
   ]
  },
  {
   "cell_type": "code",
   "execution_count": null,
   "metadata": {
    "collapsed": true
   },
   "outputs": [],
   "source": []
  }
 ],
 "metadata": {
  "kernelspec": {
   "display_name": "Python 2",
   "language": "python",
   "name": "python2"
  },
  "language_info": {
   "codemirror_mode": {
    "name": "ipython",
    "version": 2
   },
   "file_extension": ".py",
   "mimetype": "text/x-python",
   "name": "python",
   "nbconvert_exporter": "python",
   "pygments_lexer": "ipython2",
   "version": "2.7.6"
  }
 },
 "nbformat": 4,
 "nbformat_minor": 0
}
