{
 "cells": [
  {
   "cell_type": "markdown",
   "metadata": {},
   "source": [
    "$\\begin{itemize}\n",
    "\\item При помощи метода Монте-Карло подсчитать значение интеграла функции cos(x^2) в пределах от 0 до 0.5.\n",
    "\\item Подсчитать в векторе x среднее значение, проигнорировав значения inf и nan. Т.е. для x = np.array([1, 2, np.nan]) ответ 1.5\n",
    "\\item В матрице H заменить все значения, которые больше maxH, на maxH, а все значения, которые меньше minH, на minH. Решите задачу двумя способами: с использованием индексации по матрице, и с использованием операций взятия максимума и минимума. \n",
    "\\end{itemize}$"
   ]
  },
  {
   "cell_type": "markdown",
   "metadata": {},
   "source": [
    "# 1"
   ]
  },
  {
   "cell_type": "code",
   "execution_count": 7,
   "metadata": {
    "collapsed": true
   },
   "outputs": [],
   "source": [
    "import numpy as np\n",
    "from math import cos"
   ]
  },
  {
   "cell_type": "code",
   "execution_count": null,
   "metadata": {
    "collapsed": true
   },
   "outputs": [],
   "source": [
    "# 0 < cos(0.5^2) <= cos(x^2) <= 1\n",
    "X = np.random.rand(10000, 2)"
   ]
  },
  {
   "cell_type": "code",
   "execution_count": 6,
   "metadata": {
    "collapsed": false
   },
   "outputs": [],
   "source": [
    "X[:, 0] = X[:, 0] * (1 - cos(0.25))"
   ]
  },
  {
   "cell_type": "code",
   "execution_count": null,
   "metadata": {
    "collapsed": true
   },
   "outputs": [],
   "source": []
  }
 ],
 "metadata": {
  "kernelspec": {
   "display_name": "Python 2",
   "language": "python",
   "name": "python2"
  },
  "language_info": {
   "codemirror_mode": {
    "name": "ipython",
    "version": 2
   },
   "file_extension": ".py",
   "mimetype": "text/x-python",
   "name": "python",
   "nbconvert_exporter": "python",
   "pygments_lexer": "ipython2",
   "version": "2.7.6"
  }
 },
 "nbformat": 4,
 "nbformat_minor": 0
}
