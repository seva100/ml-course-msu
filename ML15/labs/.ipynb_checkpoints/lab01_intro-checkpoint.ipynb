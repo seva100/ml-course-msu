{
 "cells": [
  {
   "cell_type": "markdown",
   "metadata": {},
   "source": [
    "# Лабораторная работа 1. Язык Python, основные библиотеки для анализа данных."
   ]
  },
  {
   "cell_type": "markdown",
   "metadata": {},
   "source": [
    "ФИО: Севастопольский Артем Михайлович\n",
    "\n",
    "Группа: 317"
   ]
  },
  {
   "cell_type": "code",
   "execution_count": null,
   "metadata": {
    "collapsed": true
   },
   "outputs": [],
   "source": [
    "Примечание от исполнителя работы: использовал Python версии 2.7."
   ]
  },
  {
   "cell_type": "code",
   "execution_count": 1,
   "metadata": {
    "collapsed": true
   },
   "outputs": [],
   "source": [
    "import numpy as np\n",
    "import pandas as pd"
   ]
  },
  {
   "cell_type": "markdown",
   "metadata": {},
   "source": [
    "## Часть 1: Python"
   ]
  },
  {
   "cell_type": "markdown",
   "metadata": {},
   "source": [
    "#### 1. Напишите код, который сформирует список всех натуральных чисел, не превосходящих 100, которые делятся на 7 и не делятся на 5. Нельзя использовать циклы — выполните это задание с помощью list comprehension."
   ]
  },
  {
   "cell_type": "code",
   "execution_count": 1,
   "metadata": {
    "collapsed": false
   },
   "outputs": [
    {
     "data": {
      "text/plain": [
       "[7, 14, 21, 28, 42, 49, 56, 63, 77, 84, 91, 98]"
      ]
     },
     "execution_count": 1,
     "metadata": {},
     "output_type": "execute_result"
    }
   ],
   "source": [
    "myList = [i for i in xrange(1, 101) if i % 7 == 0 and i % 5 != 0]\n",
    "myList"
   ]
  },
  {
   "cell_type": "markdown",
   "metadata": {},
   "source": [
    "#### 2. Напишите функцию `sort_tokens(s)`, которая принимает на вход строку, разделяет ее на токены по запятым, сортирует токены с помощью функции `sorted()` и снова соединяет их в одну строку через запятые. Например, для строки `u\"ночь,фонарь,улица\"` функция должна выдать `u\"ночь,улица,фонарь\"`. Придумайте несколько входных строк и протестируйте функцию на них."
   ]
  },
  {
   "cell_type": "markdown",
   "metadata": {},
   "source": [
    "Обратите внимание, что склеить строки можно с помощью конструкции `'x'.join(...)`. Например:"
   ]
  },
  {
   "cell_type": "code",
   "execution_count": 2,
   "metadata": {
    "collapsed": false
   },
   "outputs": [
    {
     "data": {
      "text/plain": [
       "'i! am! very! excited! :-)'"
      ]
     },
     "execution_count": 2,
     "metadata": {},
     "output_type": "execute_result"
    }
   ],
   "source": [
    "'! '.join(['i', 'am', 'very', 'excited', ':-)'])"
   ]
  },
  {
   "cell_type": "code",
   "execution_count": 5,
   "metadata": {
    "collapsed": false
   },
   "outputs": [
    {
     "name": "stdout",
     "output_type": "stream",
     "text": [
      "ночь,улица,фонарь\n",
      "аб,абв,где\n",
      "317\n",
      "\n",
      "14,317,417,517\n"
     ]
    }
   ],
   "source": [
    "def sort_tokens(s):\n",
    "    tokens = s.split(',')\n",
    "    joined = ','.join(sorted(tokens))\n",
    "    return joined\n",
    "\n",
    "print(sort_tokens(u\"ночь,фонарь,улица\"))\n",
    "print(sort_tokens(u\"где,абв,аб\"))\n",
    "print(sort_tokens(u\"317\"))\n",
    "print(sort_tokens(u\"\"))\n",
    "print(sort_tokens(u\"517,417,317,14\"))"
   ]
  },
  {
   "cell_type": "markdown",
   "metadata": {},
   "source": [
    "#### 3. Напишите функцию `remove_duplicates(a)`, которая принимает на вход список и возвращает его же, но без дубликатов и в отсортированном виде. Например, для списка `[u\"ночь\", u\"улица\", u\"фонарь\", u\"аптека\", u\"аптека\", u\"улица\", u\"фонарь\"]` результат должен быть `[u\"аптека\", u\"ночь\", u\"улица\", u\"фонарь\", ]`."
   ]
  },
  {
   "cell_type": "markdown",
   "metadata": {},
   "source": [
    "Подсказка: обратите внимание на структуру `set`!"
   ]
  },
  {
   "cell_type": "code",
   "execution_count": 11,
   "metadata": {
    "collapsed": false
   },
   "outputs": [
    {
     "name": "stdout",
     "output_type": "stream",
     "text": [
      "[u'\\u0430\\u043f\\u0442\\u0435\\u043a\\u0430', u'\\u043d\\u043e\\u0447\\u044c', u'\\u0443\\u043b\\u0438\\u0446\\u0430', u'\\u0444\\u043e\\u043d\\u0430\\u0440\\u044c']\n"
     ]
    }
   ],
   "source": [
    "def remove_duplicates(a):\n",
    "    a_set = set(a)\n",
    "    return list(sorted(a_set))\n",
    "\n",
    "print(remove_duplicates([u\"ночь\", u\"улица\", u\"фонарь\", u\"аптека\", u\"аптека\", u\"улица\", u\"фонарь\"]))"
   ]
  },
  {
   "cell_type": "markdown",
   "metadata": {},
   "source": [
    "#### 4. Напишите функцию `word_counts(texts)`, которая принимает на вход список строк, и печатает пары (слово, число вхождений). Считайте, что слова в текстах могут быть разделены только пробелами. Например, для входа `[u'ночь улица фонарь аптека', u'аптека улица фонарь']` должно быть напечатано\n",
    ">аптека 2\n",
    "\n",
    ">улица 2\n",
    "\n",
    ">фонарь 2\n",
    "\n",
    ">ночь 1"
   ]
  },
  {
   "cell_type": "markdown",
   "metadata": {},
   "source": [
    "Подсказки:\n",
    "\n",
    "Чтобы разбить каждый из текстов на слова, воспользуйтесь функцией `map`, которая применяет заданную функцию к каждому элементу списка. Например, если бы нужно было каждый из текстов привести к нижнему регистру, то команда выглядела бы так:"
   ]
  },
  {
   "cell_type": "code",
   "execution_count": 3,
   "metadata": {
    "collapsed": false
   },
   "outputs": [
    {
     "data": {
      "text/plain": [
       "['abcdefg', 'hijkl']"
      ]
     },
     "execution_count": 3,
     "metadata": {},
     "output_type": "execute_result"
    }
   ],
   "source": [
    "map(lambda x: x.lower(), [\"abCDefg\", \"HIjkL\"])"
   ]
  },
  {
   "cell_type": "markdown",
   "metadata": {},
   "source": [
    "После первого шага вы получите список, состоящий из списков слов. Чтобы объединить их в один список слов, воспользуйтесь функцией `reduce`. Например, просуммировать числа из списка с ее помощью можно так:\n",
    "\n"
   ]
  },
  {
   "cell_type": "code",
   "execution_count": 4,
   "metadata": {
    "collapsed": false
   },
   "outputs": [
    {
     "data": {
      "text/plain": [
       "15"
      ]
     },
     "execution_count": 4,
     "metadata": {},
     "output_type": "execute_result"
    }
   ],
   "source": [
    "reduce(lambda x, y: x + y, [1, 2, 3, 4, 5])"
   ]
  },
  {
   "cell_type": "markdown",
   "metadata": {},
   "source": [
    "Для подсчета количества вхождений слов воспользуйтесь структурой `defaultdict` из модуля `collections`. В отличие от обычного `dict`, она не генерирует ошибку при обращении к несуществущему ключу, а создает новую запись, инициализируемую нулевым значением. Например:"
   ]
  },
  {
   "cell_type": "code",
   "execution_count": 5,
   "metadata": {
    "collapsed": false
   },
   "outputs": [
    {
     "name": "stdout",
     "output_type": "stream",
     "text": [
      "defaultdict(<type 'int'>, {})\n",
      "defaultdict(<type 'int'>, {'abc': 1})\n",
      "defaultdict(<type 'int'>, {'xxx': 0, 'abc': 1})\n"
     ]
    }
   ],
   "source": [
    "from collections import defaultdict\n",
    "d = defaultdict(int)\n",
    "print d\n",
    "d['abc'] += 1\n",
    "print d\n",
    "d['xxx']\n",
    "print d"
   ]
  },
  {
   "cell_type": "code",
   "execution_count": 35,
   "metadata": {
    "collapsed": false
   },
   "outputs": [
    {
     "name": "stdout",
     "output_type": "stream",
     "text": [
      "аптека 2\n",
      "улица 2\n",
      "фонарь 2\n",
      "ночь 1\n"
     ]
    }
   ],
   "source": [
    "from collections import defaultdict\n",
    "import operator\n",
    "\n",
    "def word_counts(texts):\n",
    "    texts_split = map(operator.methodcaller('split'), texts)\n",
    "    words = reduce(operator.add, texts_split)\n",
    "    d = defaultdict(int)\n",
    "    for w in words:\n",
    "        d[w] += 1\n",
    "    for w in d:\n",
    "        print w, d[w]\n",
    "\n",
    "word_counts([u'ночь улица фонарь аптека', u'аптека улица фонарь'])"
   ]
  },
  {
   "cell_type": "markdown",
   "metadata": {},
   "source": [
    "#### 5. (бонусное задание) Скачайте английский перевод \"Преступления и наказания\". Найдите 20 самых популярных слов и 20 слов, которые встречаются только один раз."
   ]
  },
  {
   "cell_type": "markdown",
   "metadata": {},
   "source": [
    "Приведите текст к нижнему регистру. Разделите текст на слова, считая разделителями все, кроме букв. Обратите внимание на функцию `split` из модуля `re`.\n",
    "\n",
    "Не забудьте удалить пустые слова:\n",
    "```\n",
    "words = filter(lambda x: len(x) > 0, words)\n",
    "```"
   ]
  },
  {
   "cell_type": "code",
   "execution_count": 16,
   "metadata": {
    "collapsed": false
   },
   "outputs": [],
   "source": [
    "from urllib import urlopen\n",
    "url = \"http://www.gutenberg.org/files/2554/2554.txt\"\n",
    "response = urlopen(url)\n",
    "raw_text = response.read().decode('utf8')"
   ]
  },
  {
   "cell_type": "code",
   "execution_count": 21,
   "metadata": {
    "collapsed": false
   },
   "outputs": [
    {
     "data": {
      "text/plain": [
       "u'r five\\r\\nchildren in only two rooms. The father and mother spent their evenings\\r\\nin reading aloud to '"
      ]
     },
     "execution_count": 21,
     "metadata": {},
     "output_type": "execute_result"
    }
   ],
   "source": [
    "raw_text[1000:1100]"
   ]
  },
  {
   "cell_type": "code",
   "execution_count": 34,
   "metadata": {
    "collapsed": false
   },
   "outputs": [
    {
     "name": "stdout",
     "output_type": "stream",
     "text": [
      "20 наиболее популярных слов: (слово, число вхождений):\n",
      "the 8003\n",
      "and 7042\n",
      "to 5497\n",
      "he 4900\n",
      "a 4668\n",
      "i 4405\n",
      "you 4118\n",
      "of 3928\n",
      "it 3463\n",
      "that 3308\n",
      "in 3254\n",
      "was 2827\n",
      "his 2116\n",
      "at 2082\n",
      "her 1829\n",
      "but 1801\n",
      "not 1775\n",
      "s 1765\n",
      "with 1757\n",
      "she 1695\n",
      "\n",
      "20 уникальных слов:\n",
      "fawn\n",
      "writings\n",
      "nunnery\n",
      "fedosya\n",
      "clotted\n",
      "preface\n",
      "cyprus\n",
      "increase\n",
      "wheeled\n",
      "superficially\n",
      "meadows\n",
      "fogeys\n",
      "anaemic\n",
      "straws\n",
      "busybody\n",
      "reliable\n",
      "scraped\n",
      "errors\n",
      "cooking\n",
      "contributed\n"
     ]
    }
   ],
   "source": [
    "import re\n",
    "from collections import defaultdict\n",
    "from operator import itemgetter, methodcaller\n",
    "\n",
    "words = re.findall('[a-zA-Z]+', raw_text)   # решил использовать findall, а не split,\n",
    "                                            # т.к. эта команда удаляет и пустые слова.\n",
    "words = map(methodcaller('lower'), words)\n",
    "d = defaultdict(int)\n",
    "for w in words:\n",
    "    d[w] += 1\n",
    "words_list = d.items()\n",
    "sorted_words_list = sorted(words_list, key=itemgetter(1), reverse=True)\n",
    "most_popular = sorted_words_list[:20]\n",
    "print u\"20 наиболее популярных слов: (слово, число вхождений):\"\n",
    "for w, occurs in most_popular[:20]:\n",
    "    print w, occurs\n",
    "print\n",
    "\n",
    "unique_words = filter(lambda x: x[1] == 1, words_list)\n",
    "print u\"20 уникальных слов:\"\n",
    "for w, occur in unique_words[:20]:\n",
    "    print w"
   ]
  },
  {
   "cell_type": "markdown",
   "metadata": {},
   "source": [
    "## Часть 2: NumPy и SciPy"
   ]
  },
  {
   "cell_type": "markdown",
   "metadata": {},
   "source": [
    "#### 1. Повторите 1000 раз следующий эксперимент: сгенерируйте две матрицы размера $10 \\times 10$ из стандартного нормального распределения, перемножьте их (как матрицы) и найдите максимальный элемент. Какое среднее значение по экспериментам у максимальных элементов? 95-процентная квантиль?"
   ]
  },
  {
   "cell_type": "markdown",
   "metadata": {},
   "source": [
    "Для вычисления квантили воспользуйтесь функцией `np.percentile`"
   ]
  },
  {
   "cell_type": "code",
   "execution_count": 39,
   "metadata": {
    "collapsed": false
   },
   "outputs": [
    {
     "name": "stdout",
     "output_type": "stream",
     "text": [
      "Среднее значение по экспериментам:  8.50672685488\n",
      "95-я перцентиль:  11.7797292971\n"
     ]
    }
   ],
   "source": [
    "import numpy as np\n",
    "\n",
    "def myExperiment():\n",
    "    A = np.random.normal(0, 1, (10, 10))\n",
    "    B = np.random.normal(0, 1, (10, 10))\n",
    "    C = A.dot(B)\n",
    "    return C.max()\n",
    "\n",
    "results = [myExperiment() for i in xrange(1000)]\n",
    "print \"Среднее значение по экспериментам: \", np.mean(results)\n",
    "print \"95-я перцентиль: \", np.percentile(results, 95)"
   ]
  },
  {
   "cell_type": "markdown",
   "metadata": {},
   "source": [
    "#### 2. Сгенерируйте 1000 чисел из распределения Пуассона с параметром $\\lambda = 5$. Сформируйте массив, в котором в i-м элементе будет записано количество сгенерированных чисел, равных i."
   ]
  },
  {
   "cell_type": "markdown",
   "metadata": {},
   "source": [
    "Обратите внимание на функцию `np.bincount`"
   ]
  },
  {
   "cell_type": "code",
   "execution_count": 45,
   "metadata": {
    "collapsed": false
   },
   "outputs": [
    {
     "data": {
      "text/plain": [
       "array([  6,  35, 106, 153, 183, 176, 126, 102,  56,  31,  12,  14])"
      ]
     },
     "execution_count": 45,
     "metadata": {},
     "output_type": "execute_result"
    }
   ],
   "source": [
    "pois = np.random.poisson(5, 1000)\n",
    "occur = np.bincount(pois)\n",
    "occur"
   ]
  },
  {
   "cell_type": "markdown",
   "metadata": {},
   "source": [
    "#### 3. Реализуйте функцию, которая принимает на вход numpy-массив целых чисел `a`, и генерирует массив, в котором число `i` встречается `a[i]` раз. Протестируйте на результате из прошлого задания."
   ]
  },
  {
   "cell_type": "markdown",
   "metadata": {},
   "source": [
    "Обратите внимание на функцию `np.repeat`"
   ]
  },
  {
   "cell_type": "code",
   "execution_count": 52,
   "metadata": {
    "collapsed": false
   },
   "outputs": [
    {
     "data": {
      "text/plain": [
       "True"
      ]
     },
     "execution_count": 52,
     "metadata": {},
     "output_type": "execute_result"
    }
   ],
   "source": [
    "def my_function(a):\n",
    "    result = np.array([], dtype='int64')\n",
    "    for i, cnt in enumerate(a):\n",
    "        result = np.append(result, np.repeat(i, cnt))\n",
    "    return result\n",
    "\n",
    "pois = np.random.poisson(5, 1000)\n",
    "occur = np.bincount(pois)\n",
    "result_of_func = my_function(occur)\n",
    "result_of_func\n",
    "np.all(np.bincount(result_of_func) == occur)"
   ]
  },
  {
   "cell_type": "markdown",
   "metadata": {},
   "source": [
    "#### 4. Напишите функцию `scale(X)`, которая принимает на вход матрицу и масштабирует каждый ее столбец (вычитает среднее и делит на стандартное отклонение). Убедитесь, что в функции не будет происходить деления на ноль. Протестируйте на каких-нибудь данных."
   ]
  },
  {
   "cell_type": "code",
   "execution_count": 78,
   "metadata": {
    "collapsed": false
   },
   "outputs": [],
   "source": [
    "def scale(X):\n",
    "    X_std = X.std(axis=1)[:, np.newaxis]\n",
    "    X_std[X_std == 0] = 1\n",
    "    Y = (X - X.mean(axis=1)[:, np.newaxis]) / X_std\n",
    "    return Y"
   ]
  },
  {
   "cell_type": "code",
   "execution_count": 32,
   "metadata": {
    "collapsed": false
   },
   "outputs": [
    {
     "ename": "NameError",
     "evalue": "name 'np' is not defined",
     "output_type": "error",
     "traceback": [
      "\u001b[1;31m---------------------------------------------------------------------------\u001b[0m",
      "\u001b[1;31mNameError\u001b[0m                                 Traceback (most recent call last)",
      "\u001b[1;32m<ipython-input-32-ed09c4096a40>\u001b[0m in \u001b[0;36m<module>\u001b[1;34m()\u001b[0m\n\u001b[1;32m----> 1\u001b[1;33m \u001b[0mA\u001b[0m \u001b[1;33m=\u001b[0m \u001b[0mnp\u001b[0m\u001b[1;33m.\u001b[0m\u001b[0mempty\u001b[0m\u001b[1;33m(\u001b[0m\u001b[1;33m(\u001b[0m\u001b[1;36m10\u001b[0m\u001b[1;33m,\u001b[0m \u001b[1;36m10\u001b[0m\u001b[1;33m)\u001b[0m\u001b[1;33m)\u001b[0m\u001b[1;33m\u001b[0m\u001b[0m\n\u001b[0m\u001b[0;32m      2\u001b[0m \u001b[1;32mfor\u001b[0m \u001b[0mi\u001b[0m \u001b[1;32min\u001b[0m \u001b[0mxrange\u001b[0m\u001b[1;33m(\u001b[0m\u001b[1;36m10\u001b[0m\u001b[1;33m)\u001b[0m\u001b[1;33m:\u001b[0m\u001b[1;33m\u001b[0m\u001b[0m\n\u001b[0;32m      3\u001b[0m     \u001b[0mA\u001b[0m\u001b[1;33m[\u001b[0m\u001b[1;33m:\u001b[0m\u001b[1;33m,\u001b[0m \u001b[0mi\u001b[0m\u001b[1;33m]\u001b[0m \u001b[1;33m=\u001b[0m \u001b[0mnp\u001b[0m\u001b[1;33m.\u001b[0m\u001b[0mrandom\u001b[0m\u001b[1;33m.\u001b[0m\u001b[0mnormal\u001b[0m\u001b[1;33m(\u001b[0m\u001b[0mi\u001b[0m \u001b[1;33m*\u001b[0m \u001b[1;36m2\u001b[0m\u001b[1;33m,\u001b[0m \u001b[0mi\u001b[0m \u001b[1;33m+\u001b[0m \u001b[1;36m5\u001b[0m\u001b[1;33m,\u001b[0m \u001b[1;33m(\u001b[0m\u001b[1;36m1\u001b[0m\u001b[1;33m,\u001b[0m \u001b[1;36m10\u001b[0m\u001b[1;33m)\u001b[0m\u001b[1;33m)\u001b[0m\u001b[1;33m\u001b[0m\u001b[0m\n\u001b[0;32m      4\u001b[0m \u001b[1;32mprint\u001b[0m \u001b[0mA\u001b[0m\u001b[1;33m.\u001b[0m\u001b[0mmean\u001b[0m\u001b[1;33m(\u001b[0m\u001b[0maxis\u001b[0m\u001b[1;33m=\u001b[0m\u001b[1;36m1\u001b[0m\u001b[1;33m)\u001b[0m\u001b[1;33m\u001b[0m\u001b[0m\n\u001b[0;32m      5\u001b[0m \u001b[1;32mprint\u001b[0m \u001b[0mA\u001b[0m\u001b[1;33m.\u001b[0m\u001b[0mstd\u001b[0m\u001b[1;33m(\u001b[0m\u001b[0maxis\u001b[0m\u001b[1;33m=\u001b[0m\u001b[1;36m1\u001b[0m\u001b[1;33m)\u001b[0m\u001b[1;33m\u001b[0m\u001b[0m\n",
      "\u001b[1;31mNameError\u001b[0m: name 'np' is not defined"
     ]
    }
   ],
   "source": [
    "A = np.empty((10, 10))\n",
    "for i in xrange(10):\n",
    "    A[:, i] = np.random.normal(i * 2, i + 5, (1, 10))\n",
    "print A.mean(axis=1)\n",
    "print A.std(axis=1)\n",
    "\n",
    "A = scale(A)\n",
    "print A.mean(axis=1)\n",
    "print A.std(axis=1)"
   ]
  },
  {
   "cell_type": "markdown",
   "metadata": {},
   "source": [
    "#### 5. Сгенерируйте матрицу с элементами из нормального распределения $\\mathcal{N}(10, 1)$. Найдите ее:\n",
    "- определитель\n",
    "- след\n",
    "- наименьший и наибольший элементы\n",
    "- спектральную норму\n",
    "- норму Фробениуса\n",
    "- собственные числа\n",
    "- обратную матрицу"
   ]
  },
  {
   "cell_type": "code",
   "execution_count": 87,
   "metadata": {
    "collapsed": false
   },
   "outputs": [
    {
     "name": "stdout",
     "output_type": "stream",
     "text": [
      "определитель:  -0.0184517706522\n",
      "след:  5.44777336023\n",
      "наименьший и наибольший элементы:  0.989891014173 0.00144216673274\n",
      "спектральную норму:  5.09075371415\n",
      "норму Фробениуса:  5.68118483659\n",
      "собственные числа:  [ 4.90189557+0.j         -0.69319212+0.j          0.63963834+0.32082603j\n",
      "  0.63963834-0.32082603j -0.20973676+0.52819577j -0.20973676-0.52819577j\n",
      "  0.14166679+0.25249666j  0.14166679-0.25249666j  0.04796659+0.62401556j\n",
      "  0.04796659-0.62401556j]\n",
      "обратную матрицу:  [[ 1.94862205 -2.1451381   1.20031878  0.39183792  0.24503452  0.10729904\n",
      "   3.01546781 -2.48812305 -1.73733409  1.06739966]\n",
      " [-0.03515676  1.46233749  0.32776013 -0.53231195 -0.84270513  0.01657613\n",
      "  -2.43729925  2.9195592   0.81510835 -2.56055334]\n",
      " [-0.0379226   0.66059519  0.6622336   0.64118458 -0.8959353  -0.44243035\n",
      "  -2.03262153  1.48759319  0.637454   -1.14473766]\n",
      " [ 0.51970018 -0.72671394 -0.53656485 -0.02762657  1.17147    -0.7554899\n",
      "   2.77488204 -1.92949104 -0.51718859  1.49544091]\n",
      " [-0.54402188 -0.39261674 -0.04506648 -0.2756046   1.40028503 -0.88237264\n",
      "   0.32168659  0.55520166  0.26518534  0.61347182]\n",
      " [ 2.50596774 -2.13754669  1.64355475  0.17465643  0.43101711  0.32684763\n",
      "  -0.39954991 -0.25997039 -0.59569382 -1.09674245]\n",
      " [-2.20867209  1.44968555 -0.09438345 -0.54824314 -0.08768165  0.21396977\n",
      "  -1.55568265  1.70033624  1.8008328  -1.37147572]\n",
      " [ 0.91721565 -0.00639847  0.7718291  -0.9849326  -0.16635638  0.52234306\n",
      "  -0.1827593  -0.74820304 -0.0931465   0.12380071]\n",
      " [-0.65744232 -0.19135329 -1.72918531  0.75801939 -0.37755978  0.51025412\n",
      "   0.94977256 -0.65422774 -0.18681539  1.55034666]\n",
      " [-2.26194562  2.20186202 -1.53296117  0.62846354 -0.34791562  0.15471325\n",
      "  -1.29510698  1.05127472  0.29829589  0.30392321]]\n"
     ]
    }
   ],
   "source": [
    "from scipy import linalg as la\n",
    "\n",
    "A = np.random.rand(10, 10)\n",
    "print 'определитель: ', la.det(A)\n",
    "print 'след: ', np.trace(A)\n",
    "print 'наименьший и наибольший элементы: ', A.max(), A.min()\n",
    "print 'спектральную норму: ', la.norm(A, 2)\n",
    "print 'норму Фробениуса: ', la.norm(A)\n",
    "print 'собственные числа: ', la.eigvals(A)\n",
    "print 'обратную матрицу: ', la.inv(A)"
   ]
  },
  {
   "cell_type": "markdown",
   "metadata": {},
   "source": [
    "## Часть 3: Pandas"
   ]
  },
  {
   "cell_type": "markdown",
   "metadata": {},
   "source": [
    "#### Ответьте на вопросы о данных по авиарейсам в США за январь-апрель 2008 года.\n",
    "\n",
    "Данные: http://stat-computing.org/dataexpo/2009/2008.csv.bz2\n",
    "(обратите внимание, что распаковывать этот файл не обязательно — функция `pandas.read_csv` умеет читать из архивов автоматически)\n",
    "\n",
    "Описание: http://stat-computing.org/dataexpo/2009/the-data.html\n",
    "\n",
    "1. Какая из причин отмены рейса (`CancellationCode`) была самой частой? (расшифровки кодов можно найти в описании данных)\n",
    "2. Найдите среднее, минимальное и максимальное расстояние, пройденное самолетом.\n",
    "3. Не выглядит ли подозрительным минимальное пройденное расстояние? В какие дни и на каких рейсах оно было? Какое расстояние было пройдено этими же рейсами в другие дни?\n",
    "4. Из какого аэропорта было произведено больше всего вылетов? В каком городе он находится?\n",
    "5. Найдите для каждого аэропорта среднее время полета (`AirTime`) по всем вылетевшим из него рейсам. Какой аэропорт имеет наибольшее значение этого показателя?\n",
    "6. Найдите аэропорт, у которого наибольшая доля задержанных (`DepDelay > 0`) рейсов. Исключите при этом из рассмотрения аэропорты, из которых было отправлено меньше 1000 рейсов (используйте функцию `filter` после `groupby`)."
   ]
  },
  {
   "cell_type": "code",
   "execution_count": 33,
   "metadata": {
    "collapsed": false
   },
   "outputs": [
    {
     "name": "stdout",
     "output_type": "stream",
     "text": [
      "1. Самая частая причина отмены рейса:  carrier\n"
     ]
    }
   ],
   "source": [
    "import pandas as pd\n",
    "\n",
    "df = pd.read_csv(u\"/home/artem/Programming/Practicum 5 sem/2008_short.csv\")    # использую файл, содержающий первые \n",
    "                                                            # 10000 строк из файла 2008.csv.bz2,\n",
    "                                                            # т.к. исходный файл не помещается в ОЗУ моего компьютера.\n",
    "# 1\n",
    "code_meaning = {'A': 'carrier', 'B': 'weather', 'C': 'NAS', 'D': 'security'}\n",
    "cancel_code = df.CancellationCode.value_counts().idxmax()\n",
    "print \"1. Самая частая причина отмены рейса: \", code_meaning[cancel_code]"
   ]
  },
  {
   "cell_type": "code",
   "execution_count": 26,
   "metadata": {
    "collapsed": false
   },
   "outputs": [
    {
     "name": "stdout",
     "output_type": "stream",
     "text": [
      "2. Среднее, минимальное и максимальное расстояние, пройденное самолетом:  630.257825783 133 2363\n"
     ]
    }
   ],
   "source": [
    "# 2\n",
    "print \"2. Среднее, минимальное и максимальное расстояние, пройденное самолетом: \", \\\n",
    "      df.Distance.mean(), df.Distance.min(), df.Distance.max()"
   ]
  },
  {
   "cell_type": "code",
   "execution_count": 41,
   "metadata": {
    "collapsed": false
   },
   "outputs": [
    {
     "name": "stdout",
     "output_type": "stream",
     "text": [
      " 3. Случаи, когда пройденное самолетом расстояние было минимальным:\n",
      "Year: 2008, Month: 1, Day: 3, UniqueCarrier: WN, FlightNum: 150\n",
      "Year: 2008, Month: 1, Day: 3, UniqueCarrier: WN, FlightNum: 907\n",
      "Year: 2008, Month: 1, Day: 3, UniqueCarrier: WN, FlightNum: 2368\n",
      "Year: 2008, Month: 1, Day: 3, UniqueCarrier: WN, FlightNum: 3398\n",
      "Year: 2008, Month: 1, Day: 3, UniqueCarrier: WN, FlightNum: 467\n",
      "Year: 2008, Month: 1, Day: 3, UniqueCarrier: WN, FlightNum: 630\n",
      "Year: 2008, Month: 1, Day: 3, UniqueCarrier: WN, FlightNum: 1305\n",
      "Year: 2008, Month: 1, Day: 3, UniqueCarrier: WN, FlightNum: 3754\n",
      "Year: 2008, Month: 1, Day: 4, UniqueCarrier: WN, FlightNum: 150\n",
      "Year: 2008, Month: 1, Day: 4, UniqueCarrier: WN, FlightNum: 907\n",
      "Year: 2008, Month: 1, Day: 4, UniqueCarrier: WN, FlightNum: 2368\n",
      "Year: 2008, Month: 1, Day: 4, UniqueCarrier: WN, FlightNum: 3398\n",
      "Year: 2008, Month: 1, Day: 4, UniqueCarrier: WN, FlightNum: 467\n",
      "Year: 2008, Month: 1, Day: 4, UniqueCarrier: WN, FlightNum: 630\n",
      "Year: 2008, Month: 1, Day: 4, UniqueCarrier: WN, FlightNum: 1305\n",
      "Year: 2008, Month: 1, Day: 4, UniqueCarrier: WN, FlightNum: 3754\n",
      "Year: 2008, Month: 1, Day: 5, UniqueCarrier: WN, FlightNum: 150\n",
      "Year: 2008, Month: 1, Day: 5, UniqueCarrier: WN, FlightNum: 2368\n",
      "Year: 2008, Month: 1, Day: 5, UniqueCarrier: WN, FlightNum: 3398\n",
      "Year: 2008, Month: 1, Day: 5, UniqueCarrier: WN, FlightNum: 3773\n",
      "Year: 2008, Month: 1, Day: 5, UniqueCarrier: WN, FlightNum: 630\n",
      "Year: 2008, Month: 1, Day: 5, UniqueCarrier: WN, FlightNum: 837\n",
      "Year: 2008, Month: 1, Day: 5, UniqueCarrier: WN, FlightNum: 1305\n",
      "Year: 2008, Month: 1, Day: 5, UniqueCarrier: WN, FlightNum: 3754\n",
      "      FlightNum UniqueCarrier\n",
      "657         150            WN\n",
      "658         907            WN\n",
      "659        2368            WN\n",
      "660        3398            WN\n",
      "1662        467            WN\n",
      "1663        630            WN\n",
      "1664       1305            WN\n",
      "1665       3754            WN\n",
      "4094        150            WN\n",
      "4095        907            WN\n",
      "4096       2368            WN\n",
      "4097       3398            WN\n",
      "5100        467            WN\n",
      "5101        630            WN\n",
      "5102       1305            WN\n",
      "5103       3754            WN\n",
      "7234        150            WN\n",
      "7235       2368            WN\n",
      "7236       3398            WN\n",
      "7237       3773            WN\n",
      "8050        630            WN\n",
      "8051        837            WN\n",
      "8052       1305            WN\n",
      "8053       3754            WN\n",
      "\n",
      "Расстояние, пройденное этими же рейсами в другие дни: [437, 550, 580, 616, 677, 861, 972, 1011, 1073]\n"
     ]
    }
   ],
   "source": [
    "# 3\n",
    "min_dist_records = df.loc[df.Distance == df.Distance.min()]\n",
    "print \"3. Случаи, когда пройденное самолетом расстояние было минимальным:\"\n",
    "#print min_dist_records\n",
    "for rowIdx in min_dist_records.index:\n",
    "    rec = min_dist_records.ix[rowIdx]\n",
    "    print \"Year: {}, Month: {}, Day: {}, UniqueCarrier: {}, FlightNum: {}\".format(rec.Year, rec.Month, rec.DayofMonth, \n",
    "                                                                                  rec.UniqueCarrier, rec.FlightNum)\n",
    "\n",
    "selected_flights = min_dist_records[['FlightNum', 'UniqueCarrier']]\n",
    "print selected_flights\n",
    "sel_flights_distances = df[df.FlightNum.isin(selected_flights.FlightNum) & \n",
    "                           df.UniqueCarrier.isin(selected_flights.UniqueCarrier)].Distance\n",
    "sel_flights_distances = sel_flights_distances.unique()\n",
    "print \"\\nРасстояние, пройденное этими же рейсами в другие дни:\", \\\n",
    "    sorted(sel_flights_distances[sel_flights_distances != df.Distance.min()])"
   ]
  },
  {
   "cell_type": "code",
   "execution_count": 50,
   "metadata": {
    "collapsed": false
   },
   "outputs": [
    {
     "name": "stdout",
     "output_type": "stream",
     "text": [
      "Больше всего было вылетов из аэропорта McCarran International, код LAS, город Las Vegas, страна USA\n"
     ]
    }
   ],
   "source": [
    "# 4\n",
    "\n",
    "airport_url = 'http://stat-computing.org/dataexpo/2009/airports.csv'\n",
    "ap_df = pd.read_csv(airport_url, index_col='iata')\n",
    "most_freq_ap_code = df.Origin.value_counts().idxmax()\n",
    "most_freq_ap = ap_df.ix[most_freq_ap_code]\n",
    "print \"Больше всего было вылетов из аэропорта {}, код {}, город {}, страна {}\".format(most_freq_ap.airport,\n",
    "                                                                                     most_freq_ap_code,\n",
    "                                                                                     most_freq_ap.city,\n",
    "                                                                                     most_freq_ap.country)"
   ]
  },
  {
   "cell_type": "code",
   "execution_count": null,
   "metadata": {
    "collapsed": true
   },
   "outputs": [],
   "source": []
  }
 ],
 "metadata": {
  "kernelspec": {
   "display_name": "Python 2",
   "language": "python",
   "name": "python2"
  },
  "language_info": {
   "codemirror_mode": {
    "name": "ipython",
    "version": 2
   },
   "file_extension": ".py",
   "mimetype": "text/x-python",
   "name": "python",
   "nbconvert_exporter": "python",
   "pygments_lexer": "ipython2",
   "version": "2.7.6"
  }
 },
 "nbformat": 4,
 "nbformat_minor": 0
}
