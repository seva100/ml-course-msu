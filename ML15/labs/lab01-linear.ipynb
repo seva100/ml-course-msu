{
 "cells": [
  {
   "cell_type": "markdown",
   "metadata": {},
   "source": [
    "# Машинное обучение\n",
    "## ВМК МГУ, весна 2015/2016\n",
    "## Лабораторная работа 1. Линейные модели"
   ]
  },
  {
   "cell_type": "markdown",
   "metadata": {},
   "source": [
    "ФИО: Севастопольский Артем Михайлович\n",
    "\n",
    "Группа: 317"
   ]
  },
  {
   "cell_type": "markdown",
   "metadata": {},
   "source": [
    "Данное задание посвящено применению линейных моделей в задачах классификации и регрессии. Вы научитесь:\n",
    "* делать one-hot-кодирование категориальных признаков\n",
    "* обучать логистическую и линейную регрессию\n",
    "* отбирать признаки с помощью LASSO\n",
    "* вычислять метрики качества классификации и регрессии\n",
    "* выбирать лучший классификатор при ограничениях на точность или полноту\n",
    "* калибровать вероятности\n",
    "* реализовывать градиентный спуск (если захотите)\n"
   ]
  },
  {
   "cell_type": "code",
   "execution_count": 1,
   "metadata": {
    "collapsed": true
   },
   "outputs": [],
   "source": [
    "import numpy as np\n",
    "import pandas as pd\n",
    "import matplotlib.pyplot as plt\n",
    "%matplotlib inline"
   ]
  },
  {
   "cell_type": "markdown",
   "metadata": {},
   "source": [
    "## Часть 1. Научные гранты в Австралии"
   ]
  },
  {
   "cell_type": "markdown",
   "metadata": {},
   "source": [
    "![](http://imgur.com/cBdDBO3.jpg)\n",
    "\n",
    "В данной части мы будем работать с задачей \"Predict Grant Applications\" (https://www.kaggle.com/c/unimelb/data), где для заявки на грант требуется предсказать, одобрят её или нет. Будем использовать лишь 40 признаков из имеющихся 249. Файлы для работы можно найти по ссылкам:\n",
    "* https://db.tt/iYzRzQYP (обучение)\n",
    "* https://db.tt/NGSHb5Qs (контроль)"
   ]
  },
  {
   "cell_type": "markdown",
   "metadata": {},
   "source": [
    "#### Задание 1\n",
    "Считайте обучающую и контрольную выборки из файлов с помощью pd.read_csv. Выделите целевую переменную (Grant.Status) в отдельный вектор."
   ]
  },
  {
   "cell_type": "code",
   "execution_count": 2,
   "metadata": {
    "collapsed": false
   },
   "outputs": [],
   "source": [
    "data_train = pd.read_csv('data/unimel_train.csv')\n",
    "status_train = data_train['Grant.Status']\n",
    "data_train = data_train.ix[:, ~data_train.columns.isin(('Grant.Status',))]    # dropping target column\n",
    "\n",
    "data_test = pd.read_csv('data/unimel_test.csv')\n",
    "status_test = data_test['Grant.Status']\n",
    "data_test = data_test.ix[:, ~data_test.columns.isin(('Grant.Status',))]    # dropping target column"
   ]
  },
  {
   "cell_type": "code",
   "execution_count": 11,
   "metadata": {
    "collapsed": false
   },
   "outputs": [
    {
     "data": {
      "text/html": [
       "<div>\n",
       "<table border=\"1\" class=\"dataframe\">\n",
       "  <thead>\n",
       "    <tr style=\"text-align: right;\">\n",
       "      <th></th>\n",
       "      <th>Grant.Application.ID</th>\n",
       "      <th>Sponsor.Code</th>\n",
       "      <th>Grant.Category.Code</th>\n",
       "      <th>Contract.Value.Band...see.note.A</th>\n",
       "      <th>RFCD.Code.1</th>\n",
       "      <th>RFCD.Percentage.1</th>\n",
       "      <th>RFCD.Code.2</th>\n",
       "      <th>RFCD.Percentage.2</th>\n",
       "      <th>RFCD.Code.3</th>\n",
       "      <th>RFCD.Percentage.3</th>\n",
       "      <th>...</th>\n",
       "      <th>Dept.No..1</th>\n",
       "      <th>Faculty.No..1</th>\n",
       "      <th>With.PHD.1</th>\n",
       "      <th>No..of.Years.in.Uni.at.Time.of.Grant.1</th>\n",
       "      <th>Number.of.Successful.Grant.1</th>\n",
       "      <th>Number.of.Unsuccessful.Grant.1</th>\n",
       "      <th>A..1</th>\n",
       "      <th>A.1</th>\n",
       "      <th>B.1</th>\n",
       "      <th>C.1</th>\n",
       "    </tr>\n",
       "  </thead>\n",
       "  <tbody>\n",
       "    <tr>\n",
       "      <th>0</th>\n",
       "      <td>1137</td>\n",
       "      <td>21A</td>\n",
       "      <td>50A</td>\n",
       "      <td>A</td>\n",
       "      <td>230202</td>\n",
       "      <td>50</td>\n",
       "      <td>230203</td>\n",
       "      <td>30</td>\n",
       "      <td>230204</td>\n",
       "      <td>20</td>\n",
       "      <td>...</td>\n",
       "      <td>3098</td>\n",
       "      <td>31</td>\n",
       "      <td>Yes</td>\n",
       "      <td>&gt;=0 to 5</td>\n",
       "      <td>2</td>\n",
       "      <td>0</td>\n",
       "      <td>0</td>\n",
       "      <td>4</td>\n",
       "      <td>2</td>\n",
       "      <td>0</td>\n",
       "    </tr>\n",
       "    <tr>\n",
       "      <th>1</th>\n",
       "      <td>4314</td>\n",
       "      <td>4D</td>\n",
       "      <td>10A</td>\n",
       "      <td>D</td>\n",
       "      <td>320801</td>\n",
       "      <td>100</td>\n",
       "      <td>0</td>\n",
       "      <td>0</td>\n",
       "      <td>0</td>\n",
       "      <td>0</td>\n",
       "      <td>...</td>\n",
       "      <td>2553</td>\n",
       "      <td>25</td>\n",
       "      <td>Yes</td>\n",
       "      <td>&gt;=0 to 5</td>\n",
       "      <td>3</td>\n",
       "      <td>1</td>\n",
       "      <td>0</td>\n",
       "      <td>2</td>\n",
       "      <td>0</td>\n",
       "      <td>0</td>\n",
       "    </tr>\n",
       "    <tr>\n",
       "      <th>2</th>\n",
       "      <td>2020</td>\n",
       "      <td>NaN</td>\n",
       "      <td>NaN</td>\n",
       "      <td>NaN</td>\n",
       "      <td>320602</td>\n",
       "      <td>50</td>\n",
       "      <td>321004</td>\n",
       "      <td>30</td>\n",
       "      <td>321015</td>\n",
       "      <td>20</td>\n",
       "      <td>...</td>\n",
       "      <td>2813</td>\n",
       "      <td>25</td>\n",
       "      <td>NaN</td>\n",
       "      <td>Less than 0</td>\n",
       "      <td>1</td>\n",
       "      <td>5</td>\n",
       "      <td>0</td>\n",
       "      <td>7</td>\n",
       "      <td>2</td>\n",
       "      <td>0</td>\n",
       "    </tr>\n",
       "    <tr>\n",
       "      <th>3</th>\n",
       "      <td>6777</td>\n",
       "      <td>51C</td>\n",
       "      <td>20C</td>\n",
       "      <td>A</td>\n",
       "      <td>291503</td>\n",
       "      <td>60</td>\n",
       "      <td>321402</td>\n",
       "      <td>40</td>\n",
       "      <td>0</td>\n",
       "      <td>0</td>\n",
       "      <td>...</td>\n",
       "      <td>2553</td>\n",
       "      <td>25</td>\n",
       "      <td>NaN</td>\n",
       "      <td>more than 15</td>\n",
       "      <td>2</td>\n",
       "      <td>1</td>\n",
       "      <td>5</td>\n",
       "      <td>6</td>\n",
       "      <td>9</td>\n",
       "      <td>1</td>\n",
       "    </tr>\n",
       "    <tr>\n",
       "      <th>4</th>\n",
       "      <td>409</td>\n",
       "      <td>24D</td>\n",
       "      <td>30B</td>\n",
       "      <td>NaN</td>\n",
       "      <td>380107</td>\n",
       "      <td>100</td>\n",
       "      <td>0</td>\n",
       "      <td>0</td>\n",
       "      <td>0</td>\n",
       "      <td>0</td>\n",
       "      <td>...</td>\n",
       "      <td>2923</td>\n",
       "      <td>25</td>\n",
       "      <td>NaN</td>\n",
       "      <td>Less than 0</td>\n",
       "      <td>0</td>\n",
       "      <td>2</td>\n",
       "      <td>0</td>\n",
       "      <td>0</td>\n",
       "      <td>0</td>\n",
       "      <td>0</td>\n",
       "    </tr>\n",
       "  </tbody>\n",
       "</table>\n",
       "<p>5 rows × 39 columns</p>\n",
       "</div>"
      ],
      "text/plain": [
       "   Grant.Application.ID Sponsor.Code Grant.Category.Code  \\\n",
       "0                  1137          21A                 50A   \n",
       "1                  4314           4D                 10A   \n",
       "2                  2020          NaN                 NaN   \n",
       "3                  6777          51C                 20C   \n",
       "4                   409          24D                 30B   \n",
       "\n",
       "  Contract.Value.Band...see.note.A  RFCD.Code.1  RFCD.Percentage.1  \\\n",
       "0                               A        230202                 50   \n",
       "1                               D        320801                100   \n",
       "2                              NaN       320602                 50   \n",
       "3                               A        291503                 60   \n",
       "4                              NaN       380107                100   \n",
       "\n",
       "   RFCD.Code.2  RFCD.Percentage.2  RFCD.Code.3  RFCD.Percentage.3 ...   \\\n",
       "0       230203                 30       230204                 20 ...    \n",
       "1            0                  0            0                  0 ...    \n",
       "2       321004                 30       321015                 20 ...    \n",
       "3       321402                 40            0                  0 ...    \n",
       "4            0                  0            0                  0 ...    \n",
       "\n",
       "   Dept.No..1  Faculty.No..1  With.PHD.1  \\\n",
       "0        3098             31        Yes    \n",
       "1        2553             25        Yes    \n",
       "2        2813             25         NaN   \n",
       "3        2553             25         NaN   \n",
       "4        2923             25         NaN   \n",
       "\n",
       "   No..of.Years.in.Uni.at.Time.of.Grant.1  Number.of.Successful.Grant.1  \\\n",
       "0                                >=0 to 5                             2   \n",
       "1                                >=0 to 5                             3   \n",
       "2                             Less than 0                             1   \n",
       "3                            more than 15                             2   \n",
       "4                             Less than 0                             0   \n",
       "\n",
       "   Number.of.Unsuccessful.Grant.1  A..1  A.1  B.1  C.1  \n",
       "0                               0     0    4    2    0  \n",
       "1                               1     0    2    0    0  \n",
       "2                               5     0    7    2    0  \n",
       "3                               1     5    6    9    1  \n",
       "4                               2     0    0    0    0  \n",
       "\n",
       "[5 rows x 39 columns]"
      ]
     },
     "execution_count": 11,
     "metadata": {},
     "output_type": "execute_result"
    }
   ],
   "source": [
    "data_train.head()"
   ]
  },
  {
   "cell_type": "code",
   "execution_count": 4,
   "metadata": {
    "collapsed": false
   },
   "outputs": [
    {
     "name": "stdout",
     "output_type": "stream",
     "text": [
      "6095 objects, 39 features\n"
     ]
    }
   ],
   "source": [
    "print('{} objects, {} features'.format(*data_train.shape))"
   ]
  },
  {
   "cell_type": "code",
   "execution_count": 5,
   "metadata": {
    "collapsed": false
   },
   "outputs": [
    {
     "data": {
      "text/html": [
       "<div>\n",
       "<table border=\"1\" class=\"dataframe\">\n",
       "  <thead>\n",
       "    <tr style=\"text-align: right;\">\n",
       "      <th></th>\n",
       "      <th>Grant.Application.ID</th>\n",
       "      <th>Sponsor.Code</th>\n",
       "      <th>Grant.Category.Code</th>\n",
       "      <th>Contract.Value.Band...see.note.A</th>\n",
       "      <th>RFCD.Code.1</th>\n",
       "      <th>RFCD.Percentage.1</th>\n",
       "      <th>RFCD.Code.2</th>\n",
       "      <th>RFCD.Percentage.2</th>\n",
       "      <th>RFCD.Code.3</th>\n",
       "      <th>RFCD.Percentage.3</th>\n",
       "      <th>...</th>\n",
       "      <th>Dept.No..1</th>\n",
       "      <th>Faculty.No..1</th>\n",
       "      <th>With.PHD.1</th>\n",
       "      <th>No..of.Years.in.Uni.at.Time.of.Grant.1</th>\n",
       "      <th>Number.of.Successful.Grant.1</th>\n",
       "      <th>Number.of.Unsuccessful.Grant.1</th>\n",
       "      <th>A..1</th>\n",
       "      <th>A.1</th>\n",
       "      <th>B.1</th>\n",
       "      <th>C.1</th>\n",
       "    </tr>\n",
       "  </thead>\n",
       "  <tbody>\n",
       "    <tr>\n",
       "      <th>0</th>\n",
       "      <td>5031</td>\n",
       "      <td>194B</td>\n",
       "      <td>30C</td>\n",
       "      <td>A</td>\n",
       "      <td>321015</td>\n",
       "      <td>100</td>\n",
       "      <td>0</td>\n",
       "      <td>0</td>\n",
       "      <td>0</td>\n",
       "      <td>0</td>\n",
       "      <td>...</td>\n",
       "      <td>2778</td>\n",
       "      <td>25</td>\n",
       "      <td>Yes</td>\n",
       "      <td>&gt;=0 to 5</td>\n",
       "      <td>2</td>\n",
       "      <td>0</td>\n",
       "      <td>5</td>\n",
       "      <td>0</td>\n",
       "      <td>0</td>\n",
       "      <td>0</td>\n",
       "    </tr>\n",
       "    <tr>\n",
       "      <th>1</th>\n",
       "      <td>7856</td>\n",
       "      <td>84D</td>\n",
       "      <td>30B</td>\n",
       "      <td>A</td>\n",
       "      <td>320602</td>\n",
       "      <td>40</td>\n",
       "      <td>320503</td>\n",
       "      <td>60</td>\n",
       "      <td>0</td>\n",
       "      <td>0</td>\n",
       "      <td>...</td>\n",
       "      <td>2678</td>\n",
       "      <td>25</td>\n",
       "      <td>NaN</td>\n",
       "      <td>NaN</td>\n",
       "      <td>1</td>\n",
       "      <td>6</td>\n",
       "      <td>0</td>\n",
       "      <td>0</td>\n",
       "      <td>0</td>\n",
       "      <td>0</td>\n",
       "    </tr>\n",
       "    <tr>\n",
       "      <th>2</th>\n",
       "      <td>1122</td>\n",
       "      <td>21A</td>\n",
       "      <td>50A</td>\n",
       "      <td>A</td>\n",
       "      <td>390201</td>\n",
       "      <td>50</td>\n",
       "      <td>390301</td>\n",
       "      <td>30</td>\n",
       "      <td>390203</td>\n",
       "      <td>20</td>\n",
       "      <td>...</td>\n",
       "      <td>3658</td>\n",
       "      <td>22</td>\n",
       "      <td>NaN</td>\n",
       "      <td>&gt;=0 to 5</td>\n",
       "      <td>0</td>\n",
       "      <td>1</td>\n",
       "      <td>0</td>\n",
       "      <td>0</td>\n",
       "      <td>0</td>\n",
       "      <td>0</td>\n",
       "    </tr>\n",
       "    <tr>\n",
       "      <th>3</th>\n",
       "      <td>5013</td>\n",
       "      <td>51C</td>\n",
       "      <td>20C</td>\n",
       "      <td>A</td>\n",
       "      <td>291404</td>\n",
       "      <td>100</td>\n",
       "      <td>0</td>\n",
       "      <td>0</td>\n",
       "      <td>0</td>\n",
       "      <td>0</td>\n",
       "      <td>...</td>\n",
       "      <td>2053</td>\n",
       "      <td>19</td>\n",
       "      <td>Yes</td>\n",
       "      <td>&gt;=0 to 5</td>\n",
       "      <td>3</td>\n",
       "      <td>0</td>\n",
       "      <td>5</td>\n",
       "      <td>5</td>\n",
       "      <td>1</td>\n",
       "      <td>0</td>\n",
       "    </tr>\n",
       "    <tr>\n",
       "      <th>4</th>\n",
       "      <td>2140</td>\n",
       "      <td>NaN</td>\n",
       "      <td>NaN</td>\n",
       "      <td>NaN</td>\n",
       "      <td>300601</td>\n",
       "      <td>50</td>\n",
       "      <td>300699</td>\n",
       "      <td>25</td>\n",
       "      <td>270602</td>\n",
       "      <td>25</td>\n",
       "      <td>...</td>\n",
       "      <td>1098</td>\n",
       "      <td>1</td>\n",
       "      <td>Yes</td>\n",
       "      <td>&gt;=0 to 5</td>\n",
       "      <td>0</td>\n",
       "      <td>1</td>\n",
       "      <td>3</td>\n",
       "      <td>18</td>\n",
       "      <td>8</td>\n",
       "      <td>12</td>\n",
       "    </tr>\n",
       "  </tbody>\n",
       "</table>\n",
       "<p>5 rows × 39 columns</p>\n",
       "</div>"
      ],
      "text/plain": [
       "   Grant.Application.ID Sponsor.Code Grant.Category.Code  \\\n",
       "0                  5031         194B                 30C   \n",
       "1                  7856          84D                 30B   \n",
       "2                  1122          21A                 50A   \n",
       "3                  5013          51C                 20C   \n",
       "4                  2140          NaN                 NaN   \n",
       "\n",
       "  Contract.Value.Band...see.note.A  RFCD.Code.1  RFCD.Percentage.1  \\\n",
       "0                               A        321015                100   \n",
       "1                               A        320602                 40   \n",
       "2                               A        390201                 50   \n",
       "3                               A        291404                100   \n",
       "4                              NaN       300601                 50   \n",
       "\n",
       "   RFCD.Code.2  RFCD.Percentage.2  RFCD.Code.3  RFCD.Percentage.3 ...   \\\n",
       "0            0                  0            0                  0 ...    \n",
       "1       320503                 60            0                  0 ...    \n",
       "2       390301                 30       390203                 20 ...    \n",
       "3            0                  0            0                  0 ...    \n",
       "4       300699                 25       270602                 25 ...    \n",
       "\n",
       "   Dept.No..1  Faculty.No..1  With.PHD.1  \\\n",
       "0        2778             25        Yes    \n",
       "1        2678             25         NaN   \n",
       "2        3658             22         NaN   \n",
       "3        2053             19        Yes    \n",
       "4        1098              1        Yes    \n",
       "\n",
       "   No..of.Years.in.Uni.at.Time.of.Grant.1  Number.of.Successful.Grant.1  \\\n",
       "0                                >=0 to 5                             2   \n",
       "1                                     NaN                             1   \n",
       "2                                >=0 to 5                             0   \n",
       "3                                >=0 to 5                             3   \n",
       "4                                >=0 to 5                             0   \n",
       "\n",
       "   Number.of.Unsuccessful.Grant.1  A..1  A.1  B.1  C.1  \n",
       "0                               0     5    0    0    0  \n",
       "1                               6     0    0    0    0  \n",
       "2                               1     0    0    0    0  \n",
       "3                               0     5    5    1    0  \n",
       "4                               1     3   18    8   12  \n",
       "\n",
       "[5 rows x 39 columns]"
      ]
     },
     "execution_count": 5,
     "metadata": {},
     "output_type": "execute_result"
    }
   ],
   "source": [
    "data_test.head()"
   ]
  },
  {
   "cell_type": "code",
   "execution_count": 6,
   "metadata": {
    "collapsed": false
   },
   "outputs": [
    {
     "name": "stdout",
     "output_type": "stream",
     "text": [
      "2613 objects, 39 features\n"
     ]
    }
   ],
   "source": [
    "print('{} objects, {} features'.format(*data_test.shape))"
   ]
  },
  {
   "cell_type": "markdown",
   "metadata": {},
   "source": [
    "#### Задание 2\n",
    "В этом задании мы приведем данные к виду, пригодному для обучения линейных классификаторов. Для этого вещественные признаки надо отмасштабировать, а категориальные — привести к числовому виду. Также надо устранить пропуски в данных."
   ]
  },
  {
   "cell_type": "markdown",
   "metadata": {},
   "source": [
    "В первую очередь поймем, зачем здесь нужно масштабирование. Нарисуем распределение трех признаков."
   ]
  },
  {
   "cell_type": "code",
   "execution_count": 7,
   "metadata": {
    "collapsed": false
   },
   "outputs": [
    {
     "data": {
      "text/plain": [
       "<matplotlib.axes.AxesSubplot at 0x7fd873711590>"
      ]
     },
     "execution_count": 7,
     "metadata": {},
     "output_type": "execute_result"
    },
    {
     "data": {
      "image/png": "[encoded data removed]",
      "text/plain": [
       "<matplotlib.figure.Figure at 0x7fd873711bd0>"
      ]
     },
     "metadata": {},
     "output_type": "display_data"
    }
   ],
   "source": [
    "data_train['Number.of.Successful.Grant.1'].hist(bins=30)"
   ]
  },
  {
   "cell_type": "code",
   "execution_count": 8,
   "metadata": {
    "collapsed": false
   },
   "outputs": [
    {
     "data": {
      "text/plain": [
       "<matplotlib.axes.AxesSubplot at 0x7fd873662790>"
      ]
     },
     "execution_count": 8,
     "metadata": {},
     "output_type": "execute_result"
    },
    {
     "data": {
      "image/png": "[encoded data removed]",
      "text/plain": [
       "<matplotlib.figure.Figure at 0x7fd8736ea590>"
      ]
     },
     "metadata": {},
     "output_type": "display_data"
    }
   ],
   "source": [
    "data_train['RFCD.Percentage.1'].hist(bins=30)"
   ]
  },
  {
   "cell_type": "code",
   "execution_count": 9,
   "metadata": {
    "collapsed": false
   },
   "outputs": [
    {
     "data": {
      "text/plain": [
       "<matplotlib.axes.AxesSubplot at 0x7fd873564510>"
      ]
     },
     "execution_count": 9,
     "metadata": {},
     "output_type": "execute_result"
    },
    {
     "data": {
      "image/png": "[encoded data removed]",
      "text/plain": [
       "<matplotlib.figure.Figure at 0x7fd873597790>"
      ]
     },
     "metadata": {},
     "output_type": "display_data"
    }
   ],
   "source": [
    "data_train['Year.of.Birth.1'].hist(bins=30)"
   ]
  },
  {
   "cell_type": "markdown",
   "metadata": {},
   "source": [
    "Какую проблему вы наблюдаете на этих графиках? Как масштабирование поможет её исправить?"
   ]
  },
  {
   "cell_type": "markdown",
   "metadata": {},
   "source": [
    "-----\n",
    "Судя по графикам, признаки принимают не все значения на области, на которой они сосредоточены, а только некоторые:\n",
    "* признак Number.of.Successful.Grant.1 принимает только целочисленные значения в диапазоне от 0 до 13\n",
    "* признак RFCD.Percentage.1 &mdash; только некоторые значения в диапазоне от 5 до 100\n",
    "* признак Year.of.Birth.1 &mdash; каждое пятое значение в своём диапазоне (1925, 1930, ...)"
   ]
  },
  {
   "cell_type": "code",
   "execution_count": 10,
   "metadata": {
    "collapsed": false
   },
   "outputs": [
    {
     "name": "stdout",
     "output_type": "stream",
     "text": [
      "[  2.   3.   1.   0.  nan   4.   5.   6.   8.   9.   7.  11.  13.  10.  12.]\n",
      "[  50.  100.   60.   40.   80.   20.   70.   nan   75.   30.   25.   65.\n",
      "   34.   85.   10.   90.   33.   15.   55.   45.   35.   51.    5.]\n",
      "[ 1965.  1955.  1950.  1970.  1960.    nan  1945.  1980.  1940.  1975.\n",
      "  1935.  1925.  1930.  1985.]\n"
     ]
    }
   ],
   "source": [
    "print(data_train['Number.of.Successful.Grant.1'].unique())\n",
    "print(data_train['RFCD.Percentage.1'].unique())\n",
    "print(data_train['Year.of.Birth.1'].unique())"
   ]
  },
  {
   "cell_type": "markdown",
   "metadata": {},
   "source": [
    "При этом в обучающей выборке объектов на пару порядков больше, чем значений их признаков. \n",
    "\n",
    "Масштабирование позволит уменьшить зазоры между значениями признаков на гистограмме.\n",
    "\n",
    "Также значения разных признаков лежат в разных диапазонах, что может усложнить, к примеру, оптимизацию градиентным спуском. Поэтому для приведения значений признаков к одному диапазону их необходимо отмасштабировать.\n",
    "\n",
    "-----"
   ]
  },
  {
   "cell_type": "markdown",
   "metadata": {},
   "source": [
    "В наших данных есть пропуски. Ответьте на вопросы:\n",
    "1. Сколько всего пропущенных элементов в таблице с обучающей выборкой?\n",
    "2. Сколько объектов имеют хотя бы один пропуск?\n",
    "3. Сколько признаков имеют хотя бы одно пропущенное значение?"
   ]
  },
  {
   "cell_type": "code",
   "execution_count": 11,
   "metadata": {
    "collapsed": false
   },
   "outputs": [
    {
     "name": "stdout",
     "output_type": "stream",
     "text": [
      "Number of NaN cells in train: 26843\n",
      "Number of rows in train with NaN value: 5879\n",
      "Number of features in train with NaN value: 38\n"
     ]
    }
   ],
   "source": [
    "print 'Number of NaN cells in train:', data_train.isnull().sum(axis=0).sum()\n",
    "print 'Number of rows in train with NaN value:', data_train.isnull().sum(axis=1).nonzero()[0].size\n",
    "print 'Number of features in train with NaN value:', data_train.isnull().sum(axis=0).nonzero()[0].size"
   ]
  },
  {
   "cell_type": "markdown",
   "metadata": {},
   "source": [
    "Большинство признаков в нашем датасете являются категориальными. Типичным подходом к работе с ними является бинарное, или one-hot-кодирование (также есть подход со счётчиками, который мы уже применяли в прошлых работах). Для начала потренируемся делать бинарное кодирование на трех игрушечных объектах."
   ]
  },
  {
   "cell_type": "code",
   "execution_count": 14,
   "metadata": {
    "collapsed": false
   },
   "outputs": [
    {
     "data": {
      "text/html": [
       "<div>\n",
       "<table border=\"1\" class=\"dataframe\">\n",
       "  <thead>\n",
       "    <tr style=\"text-align: right;\">\n",
       "      <th></th>\n",
       "      <th>City</th>\n",
       "      <th>Weather</th>\n",
       "    </tr>\n",
       "  </thead>\n",
       "  <tbody>\n",
       "    <tr>\n",
       "      <th>0</th>\n",
       "      <td>Msk</td>\n",
       "      <td>good</td>\n",
       "    </tr>\n",
       "    <tr>\n",
       "      <th>1</th>\n",
       "      <td>SPb</td>\n",
       "      <td>bad</td>\n",
       "    </tr>\n",
       "    <tr>\n",
       "      <th>2</th>\n",
       "      <td>Msk</td>\n",
       "      <td>worst</td>\n",
       "    </tr>\n",
       "  </tbody>\n",
       "</table>\n",
       "</div>"
      ],
      "text/plain": [
       "  City Weather\n",
       "0  Msk    good\n",
       "1  SPb     bad\n",
       "2  Msk   worst"
      ]
     },
     "execution_count": 14,
     "metadata": {},
     "output_type": "execute_result"
    }
   ],
   "source": [
    "simple_data = pd.DataFrame({'City': ['Msk', 'SPb', 'Msk'], 'Weather': ['good', 'bad', 'worst']})\n",
    "simple_data.head()"
   ]
  },
  {
   "cell_type": "code",
   "execution_count": 15,
   "metadata": {
    "collapsed": false
   },
   "outputs": [
    {
     "name": "stdout",
     "output_type": "stream",
     "text": [
      "[{'City': 'Msk', 'Weather': 'good'}, {'City': 'SPb', 'Weather': 'bad'}, {'City': 'Msk', 'Weather': 'worst'}]\n"
     ]
    }
   ],
   "source": [
    "# преобразуем каждый объект в dict\n",
    "simple_data_dict = simple_data.T.to_dict().values()\n",
    "print simple_data_dict"
   ]
  },
  {
   "cell_type": "code",
   "execution_count": 16,
   "metadata": {
    "collapsed": false
   },
   "outputs": [
    {
     "data": {
      "text/plain": [
       "array([[ 1.,  0.,  0.,  1.,  0.],\n",
       "       [ 0.,  1.,  1.,  0.,  0.],\n",
       "       [ 1.,  0.,  0.,  0.,  1.]])"
      ]
     },
     "execution_count": 16,
     "metadata": {},
     "output_type": "execute_result"
    }
   ],
   "source": [
    "# делаем one-hot-кодирование\n",
    "from sklearn.feature_extraction import DictVectorizer\n",
    "transformer = DictVectorizer(sparse=False)\n",
    "# примените здесь DictVectorizer к simple_data_dict, получите бинарную матрицу и выведите её\n",
    "transformer.fit_transform(simple_data_dict)"
   ]
  },
  {
   "cell_type": "markdown",
   "metadata": {},
   "source": [
    "Реализуйте функцию transform_data, которая принимает на вход DataFrame с признаками, объекты классов StandardScaler и DictVectorizer и булеву переменную is_test (True, если обрабатывает тестовую выборку и False, если обучающую). В функции должны выполняться следующие шаги:\n",
    "1. Замена пропущенных значений на нули для вещественных признаков и на строки 'nan' для категориальных. Используйте для выполнения замены функцию fillna. Имена всех вещественных переменных перечислены в numeric_cols.\n",
    "2. Масштабирование вещественных признаков с помощью StandardScaler (метод fit_transform, если is_test == False, и метод transform в противном случае).\n",
    "3. One-hot-кодирование категориальных признаков с помощью DictVectorizer (метод fit_transform, если is_test == False, и метод transform в противном случае).\n",
    "\n",
    "Метод должен возвращать tuple из трех элементов: преобразованной выборки, объекта StandardScaler и объекта DictVectorizer. Преобразованная выборка должна состоять из масштабированных вещественных признаков и закодированных категориальных (исходные признаки не должны в ней остаться)."
   ]
  },
  {
   "cell_type": "code",
   "execution_count": 3,
   "metadata": {
    "collapsed": false
   },
   "outputs": [],
   "source": [
    "def transform_data(data, scaler, transformer, is_test, to_scale=True):\n",
    "    numeric_cols = ['RFCD.Percentage.1', 'RFCD.Percentage.2', 'RFCD.Percentage.3', \n",
    "                    'RFCD.Percentage.4', 'RFCD.Percentage.5',\n",
    "                    'SEO.Percentage.1', 'SEO.Percentage.2', 'SEO.Percentage.3',\n",
    "                    'SEO.Percentage.4', 'SEO.Percentage.5',\n",
    "                    'Year.of.Birth.1', 'Number.of.Successful.Grant.1', 'Number.of.Unsuccessful.Grant.1']\n",
    "    \n",
    "    temp_data = data.copy()\n",
    "    temp_data[numeric_cols] = temp_data[numeric_cols].fillna(value=0)\n",
    "    categ_cols = temp_data.columns[~temp_data.columns.isin(numeric_cols)]\n",
    "    temp_data[categ_cols] = temp_data[categ_cols].fillna(value='nan')\n",
    "    temp_data[categ_cols] = temp_data[categ_cols].astype(str, copy=False)\n",
    "    \n",
    "    cat_dict = temp_data[categ_cols].T.to_dict().values()\n",
    "    if not is_test:\n",
    "        if to_scale:\n",
    "            numeric_scaled = scaler.fit_transform(temp_data[numeric_cols])\n",
    "        else:\n",
    "            numeric_scaled = temp_data[numeric_cols].copy()\n",
    "        categ_transformed = transformer.fit_transform(cat_dict)\n",
    "    else:\n",
    "        if to_scale:\n",
    "            numeric_scaled = scaler.transform(temp_data[numeric_cols])\n",
    "        else:\n",
    "            numeric_scaled = temp_data[numeric_cols].copy()\n",
    "        categ_transformed = transformer.transform(cat_dict)\n",
    "    new_data = np.hstack((numeric_scaled, categ_transformed))\n",
    "    \n",
    "    return (new_data, scaler, transformer)"
   ]
  },
  {
   "cell_type": "markdown",
   "metadata": {},
   "source": [
    "Применяем функцию к данным:"
   ]
  },
  {
   "cell_type": "code",
   "execution_count": 14,
   "metadata": {
    "collapsed": false
   },
   "outputs": [],
   "source": [
    "from sklearn.preprocessing import StandardScaler\n",
    "scaler = StandardScaler()\n",
    "transformer = DictVectorizer(sparse=False)\n",
    "X, scaler, transformer = transform_data(data_train, scaler, transformer, False)\n",
    "X_test, _, _ = transform_data(data_test, scaler, transformer, True)"
   ]
  },
  {
   "cell_type": "markdown",
   "metadata": {},
   "source": [
    "Сколько признаков у вас получилось после преобразования?"
   ]
  },
  {
   "cell_type": "code",
   "execution_count": 19,
   "metadata": {
    "collapsed": false
   },
   "outputs": [
    {
     "name": "stdout",
     "output_type": "stream",
     "text": [
      "11734\n"
     ]
    }
   ],
   "source": [
    "print X.shape[1]"
   ]
  },
  {
   "cell_type": "markdown",
   "metadata": {},
   "source": [
    "#### Задание 3\n",
    "Подберите лучшее значение параметра регуляризации C для логистической регрессии с L2-регуляризатором (sklearn.linear_model.LogisticRegression) с помощью кросс-валидации по 5 блокам. В качестве метрики качества используйте AUC-ROC. Сетка для перебора указана ниже. По итогам кросс-валидации укажите лучшее значение параметра регуляризации. Обучите классификатор с этим параметром на всей обучающей выборке и найдите качество (AUC-ROC) на тестовой выборке."
   ]
  },
  {
   "cell_type": "code",
   "execution_count": 18,
   "metadata": {
    "collapsed": false
   },
   "outputs": [],
   "source": [
    "from sklearn.cross_validation import KFold\n",
    "cv = KFold(X.shape[0], n_folds=5, shuffle=True, random_state=241)"
   ]
  },
  {
   "cell_type": "code",
   "execution_count": 73,
   "metadata": {
    "collapsed": false
   },
   "outputs": [
    {
     "name": "stderr",
     "output_type": "stream",
     "text": [
      "[Parallel(n_jobs=1)]: Done   1 jobs       | elapsed:    1.3s\n",
      "[Parallel(n_jobs=1)]: Done  30 out of  30 | elapsed:   48.8s finished\n"
     ]
    },
    {
     "name": "stdout",
     "output_type": "stream",
     "text": [
      "Fitting 5 folds for each of 6 candidates, totalling 30 fits\n",
      " Best estimator: {'penalty': 'l2', 'C': 0.1}\n",
      "CV Score for best estimator: 0.882391493452\n"
     ]
    }
   ],
   "source": [
    "from sklearn.linear_model import LogisticRegression\n",
    "from sklearn.grid_search import GridSearchCV\n",
    "from sklearn.cross_validation import cross_val_score\n",
    "from sklearn.metrics import roc_auc_score\n",
    "C_grid = [0.001, 0.01, 0.1, 1.0, 10.0, 100.0]\n",
    "\n",
    "clf_lr = LogisticRegression()\n",
    "def predict_and_get_auc(clf, X_test, y_test):\n",
    "    y_pred = clf.predict_proba(X_test)[:, 1]\n",
    "    return roc_auc_score(y_test, y_pred)\n",
    "\n",
    "gs = GridSearchCV(estimator=clf_lr, param_grid={'C': C_grid, 'penalty': ['l2']}, \n",
    "                  scoring=predict_and_get_auc, n_jobs=1, cv=cv, verbose=1)\n",
    "gs.fit(X, status_train)\n",
    "print 'Best estimator:', gs.best_params_\n",
    "print 'CV Score for best estimator:', gs.best_score_"
   ]
  },
  {
   "cell_type": "markdown",
   "metadata": {},
   "source": [
    "Попробуем теперь логистическую регрессию с L1-регуляризатором (penalty='l1'). Выведите число ненулевых коэффициентов (clf.coef\\_) при каждом значении параметра регуляризации из сетки."
   ]
  },
  {
   "cell_type": "code",
   "execution_count": 74,
   "metadata": {
    "collapsed": false
   },
   "outputs": [
    {
     "name": "stderr",
     "output_type": "stream",
     "text": [
      "[Parallel(n_jobs=1)]: Done   1 jobs       | elapsed:    1.9s\n",
      "[Parallel(n_jobs=1)]: Done  30 out of  30 | elapsed: 21.3min finished\n"
     ]
    },
    {
     "name": "stdout",
     "output_type": "stream",
     "text": [
      "Fitting 5 folds for each of 6 candidates, totalling 30 fits\n",
      "Best estimator: {'penalty': 'l1', 'C': 1.0}\n",
      "CV Score for best estimator: 0.880449712554\n",
      "C=0.001, number of nonzero coefficients: 0\n",
      "C=0.01, number of nonzero coefficients: 9\n",
      "C=0.1, number of nonzero coefficients: 58\n",
      "C=1.0, number of nonzero coefficients: 669\n",
      "C=10.0, number of nonzero coefficients: 2448\n",
      "C=100.0, number of nonzero coefficients: 2983\n"
     ]
    }
   ],
   "source": [
    "gs = GridSearchCV(estimator=clf_lr, param_grid={'C': C_grid, 'penalty': ['l1']}, \n",
    "                  scoring=predict_and_get_auc, n_jobs=1, cv=cv, verbose=1)\n",
    "gs.fit(X, status_train)\n",
    "print 'Best estimator:', gs.best_params_\n",
    "print 'CV Score for best estimator:', gs.best_score_\n",
    "\n",
    "for C in C_grid:\n",
    "    clf_lr = LogisticRegression(C=C, penalty='l1')\n",
    "    clf_lr.fit(X, status_train)\n",
    "    print 'C={}, number of nonzero coefficients: {}'.format(C, np.nonzero(clf_lr.coef_)[0].size)"
   ]
  },
  {
   "cell_type": "markdown",
   "metadata": {},
   "source": [
    "Какое качество на тесте даёт логистическая регрессия с L1-регуляризатором с параметром C=0.01? Сколько для достижения такого качества ей нужно признаков?"
   ]
  },
  {
   "cell_type": "code",
   "execution_count": 75,
   "metadata": {
    "collapsed": false
   },
   "outputs": [
    {
     "name": "stdout",
     "output_type": "stream",
     "text": [
      "Test score:  0.852545565192\n",
      "LR coefficients: used 9 / all 11734\n"
     ]
    }
   ],
   "source": [
    "clf_lr = LogisticRegression(C=0.01, penalty='l1')\n",
    "clf_lr.fit(X, status_train)\n",
    "print 'Test score: ', predict_and_get_auc(clf_lr, X_test, status_test)\n",
    "print 'LR coefficients: used {} / all {}'.format(np.nonzero(clf_lr.coef_)[0].size, clf_lr.coef_.size)"
   ]
  },
  {
   "cell_type": "markdown",
   "metadata": {},
   "source": [
    "#### Задание 4\n",
    "В этом задании мы внимательно рассмотрим различные аспекты качества классификатора. Для этого возьмите классификатор с L2-регуляризатором с лучшим значением параметра регуляризации (вы его нашли в предыдущем задании), обучите на полной обучающей выборке и найдите предсказания вероятностей на тесте. Далее будем работать только с этими прогнозами."
   ]
  },
  {
   "cell_type": "code",
   "execution_count": 76,
   "metadata": {
    "collapsed": false
   },
   "outputs": [],
   "source": [
    "C_best = 0.1\n",
    "clf_lr = LogisticRegression(C=C_best, penalty='l2')\n",
    "clf_lr.fit(X, status_train)\n",
    "status_pred_proba = clf_lr.predict_proba(X_test)[:, 1]"
   ]
  },
  {
   "cell_type": "markdown",
   "metadata": {},
   "source": [
    "Посчитайте AUC-ROC, AUC-PR (average_precision_score) и log-loss для прогнозов."
   ]
  },
  {
   "cell_type": "code",
   "execution_count": 77,
   "metadata": {
    "collapsed": false
   },
   "outputs": [
    {
     "name": "stdout",
     "output_type": "stream",
     "text": [
      "AUC-ROC:  0.880349059919\n",
      "AUC-PR:   0.838758043121\n",
      "log-loss: 0.442737702403\n"
     ]
    }
   ],
   "source": [
    "from sklearn.metrics import average_precision_score, log_loss\n",
    "print 'AUC-ROC: ', roc_auc_score(status_test, status_pred_proba)\n",
    "print 'AUC-PR:  ', average_precision_score(status_test, status_pred_proba)\n",
    "print 'log-loss:', log_loss(status_test, status_pred_proba)"
   ]
  },
  {
   "cell_type": "markdown",
   "metadata": {},
   "source": [
    "Нарисуйте ROC- и PR-кривые. Не забудьте подписать оси."
   ]
  },
  {
   "cell_type": "code",
   "execution_count": 100,
   "metadata": {
    "collapsed": false
   },
   "outputs": [
    {
     "data": {
      "text/plain": [
       "<matplotlib.legend.Legend at 0x7fd8685422d0>"
      ]
     },
     "execution_count": 100,
     "metadata": {},
     "output_type": "execute_result"
    },
    {
     "data": {
      "image/png": "[encoded data removed]",
      "text/plain": [
       "<matplotlib.figure.Figure at 0x7fd8686677d0>"
      ]
     },
     "metadata": {},
     "output_type": "display_data"
    }
   ],
   "source": [
    "from sklearn.metrics import roc_curve, auc, precision_recall_curve\n",
    "fpr, tpr, _ = roc_curve(status_test, status_pred_proba)\n",
    "roc_auc = auc(fpr, tpr)\n",
    "pr, rec, _ = precision_recall_curve(status_test, status_pred_proba)\n",
    "pr_auc = average_precision_score(status_test, status_pred_proba)\n",
    "\n",
    "fig, axes = plt.subplots(nrows=1, ncols=2, figsize=(14, 6))\n",
    "axes[0].set_title('ROC curve')\n",
    "axes[0].set_xlabel('FPR')\n",
    "axes[0].set_ylabel('TPR')\n",
    "axes[0].plot(fpr, tpr, label='AUC-ROC = {:.5}'.format(roc_auc))\n",
    "axes[0].legend()\n",
    "\n",
    "axes[1].set_title('PR curve')\n",
    "axes[1].set_xlabel('recall')\n",
    "axes[1].set_ylabel('precision')\n",
    "axes[1].plot(rec, pr, label='AUC-PR = {:.5}'.format(pr_auc))\n",
    "axes[1].legend()"
   ]
  },
  {
   "cell_type": "code",
   "execution_count": null,
   "metadata": {
    "collapsed": true
   },
   "outputs": [],
   "source": [
    "fpr, tpr, _ = sklearn.metrics.roc_curve(status_test, status_pred_proba)\n",
    "roc_auc = sklearn.metrics.auc(fpr, tpr)\n",
    "\n",
    "plt.figure(figsize=(6, 6))\n",
    "plt.title('ROC curve')\n",
    "plt.xlabel('FPR')\n",
    "plt.ylabel('TPR')\n",
    "plt.plot(fpr, tpr, label='AUC-ROC = {:.5}'.format(roc_auc))\n",
    "plt.legend()"
   ]
  },
  {
   "cell_type": "markdown",
   "metadata": {},
   "source": [
    "Допустим, мы хотим построить классификатор, который будет находить не менее 90% успешных грантов. Соответственно, имеем нижнюю границу 90% на полноту. Какую максимальную точность при этом можно получить? При каком значении порога? Для получения ответа проанализируйте массивы, возвращаемые функцией metrics.precision_recall_curve."
   ]
  },
  {
   "cell_type": "code",
   "execution_count": 138,
   "metadata": {
    "collapsed": false
   },
   "outputs": [
    {
     "name": "stdout",
     "output_type": "stream",
     "text": [
      "Maximal precision when recall is >= 0.9: 0.701948051948\n",
      "Threshold: 0.314958503338\n"
     ]
    }
   ],
   "source": [
    "pr, rec, thr = precision_recall_curve(status_test, status_pred_proba)\n",
    "pr_opt = pr[rec >= 0.9].max()\n",
    "print 'Maximal precision when recall is >= 0.9:', pr_opt\n",
    "idx_opt = np.where((pr == pr_opt) & (rec >= 0.9))[0][0]\n",
    "thr_opt = thr[idx_opt]\n",
    "print 'Threshold:', thr_opt"
   ]
  },
  {
   "cell_type": "markdown",
   "metadata": {},
   "source": [
    "Возьмите классификатор с порогом из предыдущего пункта и подсчитайте для него F-меру. Почему она получилась маленькой, несмотря на высокую полноту?"
   ]
  },
  {
   "cell_type": "code",
   "execution_count": 139,
   "metadata": {
    "collapsed": false
   },
   "outputs": [
    {
     "name": "stdout",
     "output_type": "stream",
     "text": [
      "Precision:  0.701948051948\n",
      "Recall:  0.900083263947\n",
      "F score:  0.7887632251\n"
     ]
    }
   ],
   "source": [
    "pr, rec, thr = precision_recall_curve(status_test, status_pred_proba)\n",
    "idx_opt = np.where((pr == pr_opt) & (rec >= 0.9))[0][0]\n",
    "thr_opt, pr_opt, rec_opt = thr[idx_opt], pr[idx_opt], rec[idx_opt]\n",
    "print 'Precision: ', pr_opt\n",
    "print 'Recall: ', rec_opt\n",
    "f = 2 * pr_opt * rec_opt / float(pr_opt + rec_opt)\n",
    "print 'F score: ', f"
   ]
  },
  {
   "cell_type": "markdown",
   "metadata": {},
   "source": [
    "-----\n",
    "F-мера &mdash; это среднее гармоническое точности и полноты, а среднее гармоническое двух чисел мало тогда, когда хотя бы одно из них мало. Это объясняется, к примеру, значением следующего предела:\n",
    "\n",
    "$$ \\lim_{a \\rightarrow 0} \\frac{2ab}{a+b} = \\lim_{b \\rightarrow 0} \\frac{2ab}{a+b} = \\lim_{a \\rightarrow 0} \\frac{2}{\\frac{1}{a} + \\frac{1}{b}} = 0$$\n",
    "\n",
    "-----"
   ]
  },
  {
   "cell_type": "markdown",
   "metadata": {},
   "source": [
    "Допустим, что университету важно подавать как можно меньше заявок, которые окажутся неуспешными — они очень плохо влияют на репутацию. Установим нижнюю границу на точность 80%. Какую максимальную полноту при этом можно обеспечить? При каком пороге?"
   ]
  },
  {
   "cell_type": "code",
   "execution_count": 135,
   "metadata": {
    "collapsed": false
   },
   "outputs": [
    {
     "name": "stdout",
     "output_type": "stream",
     "text": [
      "Maximal recall when precision is >= 0.8: 0.776019983347\n",
      "Precision:  0.8\n",
      "Threshold:  0.529039415988\n",
      "F score:  0.787827557058\n"
     ]
    }
   ],
   "source": [
    "pr, rec, thr = precision_recall_curve(status_test, status_pred_proba)\n",
    "rec_opt = rec[pr >= 0.8].max()\n",
    "print 'Maximal recall when precision is >= 0.8:', rec_opt\n",
    "idx_opt = np.where((rec == rec_opt) & (pr >= 0.8))[0][0]\n",
    "thr_opt, pr_opt = thr[idx_opt], pr[idx_opt]\n",
    "print 'Precision: ', pr_opt\n",
    "print 'Threshold: ', thr_opt\n",
    "\n",
    "f = 2 * pr_opt * rec_opt / float(pr_opt + rec_opt)\n",
    "print 'F score: ', f"
   ]
  },
  {
   "cell_type": "markdown",
   "metadata": {},
   "source": [
    "#### Задание 5\n",
    "В этом задании мы научимся оценивать способность классификатора предсказывать вероятности, а также разберемся с калибровкой.\n",
    "\n",
    "Начнем с калибровочных кривых. Допустим, алгоритм возвращает некоторые числа от нуля до единицы. Хорошо ли они оценивают вероятность? Для этого разобьем отрезок $[0, 1]$ на несколько маленьких отрезков одинаковой длины. Рассмотрим $i$-й отрезок с границами $[a_i, b_i]$ и предсказания $p_1, p_2, \\dots, p_k$, которые попали в него. Пусть им соответствуют истинные ответы $y_1, y_2, \\dots, y_k$. Если алгоритм выдает корректные вероятности, то среди этих истинных ответов должно быть примерно $(a_i + b_i) / 2$ единиц. Иными словами, если нарисовать кривую, у которой по оси X отложены центры отрезков, а по оси Y — доли единичных ответов этих в отрезках, то она должна оказаться диагональной. Ниже приведена функция, которая должна рисовать такие кривые. В ней допущено две ошибки — найдите и исправьте их."
   ]
  },
  {
   "cell_type": "code",
   "execution_count": 148,
   "metadata": {
    "collapsed": true
   },
   "outputs": [],
   "source": [
    "def plot_calibration_curve(y_test, preds):\n",
    "    bin_middle_points = []\n",
    "    bin_real_ratios = []\n",
    "    n_bins = 20\n",
    "    for i in range(n_bins):\n",
    "        l = 1.0 / n_bins * i\n",
    "        r = 1.0 / n_bins * (i + 1)\n",
    "        bin_middle_points.append((l + r) / 2)\n",
    "        bin_real_ratios.append(np.mean(y_test[(preds >= l) & (preds < r)] == 1))\n",
    "    plt.plot(bin_middle_points, bin_real_ratios, '*-')"
   ]
  },
  {
   "cell_type": "markdown",
   "metadata": {},
   "source": [
    "Проверим её работу на логистической регрессии (поменяйте имена переменных, если это необходимо). Получилась ли почти диагональная калибровочная кривая?"
   ]
  },
  {
   "cell_type": "code",
   "execution_count": 150,
   "metadata": {
    "collapsed": false
   },
   "outputs": [
    {
     "data": {
      "image/png": "[encoded data removed]",
      "text/plain": [
       "<matplotlib.figure.Figure at 0x7fd868542f90>"
      ]
     },
     "metadata": {},
     "output_type": "display_data"
    }
   ],
   "source": [
    "clf = LogisticRegression(C=1.0)\n",
    "clf.fit(X, status_train)\n",
    "preds = clf.predict_proba(X_test)[:, 1]\n",
    "plot_calibration_curve(status_test, preds)"
   ]
  },
  {
   "cell_type": "markdown",
   "metadata": {},
   "source": [
    "-----\n",
    "Да, кривая получилась почти диагональной.\n",
    "\n",
    "-----"
   ]
  },
  {
   "cell_type": "markdown",
   "metadata": {},
   "source": [
    "Заодно обратим внимание на то, как часто классификатор выдает те или иные вероятности."
   ]
  },
  {
   "cell_type": "code",
   "execution_count": 151,
   "metadata": {
    "collapsed": false
   },
   "outputs": [
    {
     "data": {
      "image/png": "[encoded data removed]",
      "text/plain": [
       "<matplotlib.figure.Figure at 0x7fd868684e50>"
      ]
     },
     "metadata": {},
     "output_type": "display_data"
    }
   ],
   "source": [
    "plt.hist(preds, bins=20)\n",
    "plt.show()"
   ]
  },
  {
   "cell_type": "markdown",
   "metadata": {},
   "source": [
    "Обучим теперь классификатор с кусочно-линейной функцией потерь (hinge loss, как в SVM)."
   ]
  },
  {
   "cell_type": "code",
   "execution_count": 153,
   "metadata": {
    "collapsed": false
   },
   "outputs": [],
   "source": [
    "from sklearn.linear_model import SGDClassifier\n",
    "clf = SGDClassifier(loss='hinge')\n",
    "clf.fit(X, status_train)\n",
    "preds = clf.decision_function(X_test)\n",
    "preds = 1.0 / (1.0 + np.exp(-preds))"
   ]
  },
  {
   "cell_type": "markdown",
   "metadata": {},
   "source": [
    "Изучите распределение ответов классификатора. Чем оно отличается от распределения у логистической регрессии? Чем вы можете объяснить это?"
   ]
  },
  {
   "cell_type": "code",
   "execution_count": 155,
   "metadata": {
    "collapsed": false
   },
   "outputs": [
    {
     "data": {
      "image/png": "[encoded data removed]",
      "text/plain": [
       "<matplotlib.figure.Figure at 0x7fd86b76a1d0>"
      ]
     },
     "metadata": {},
     "output_type": "display_data"
    }
   ],
   "source": [
    "plt.hist(preds, bins=20)\n",
    "plt.show()"
   ]
  },
  {
   "cell_type": "markdown",
   "metadata": {},
   "source": [
    "-----\n",
    "На последнем графике видно, что большинство значений сконцентрированы вблизи 0.0 или 1.0. Сигмоида близка к 0, \n",
    "когда её аргумент близок к $-\\infty,$ и к 1, когда её аргумент близок к $+\\infty$. Классификатор с hinge loss штрафует объекты за попадание в полосу около разделяющей прямой, поэтому большинство объектов расположено вне данной полосы, и аргумент сигмоиды в основном не близок к нулю.\n",
    "\n",
    "-----"
   ]
  },
  {
   "cell_type": "markdown",
   "metadata": {},
   "source": [
    "Нарисуем калибровочную кривую. Видите ли вы какие-либо проблемы в ней?"
   ]
  },
  {
   "cell_type": "code",
   "execution_count": 158,
   "metadata": {
    "collapsed": false
   },
   "outputs": [
    {
     "data": {
      "image/png": "[encoded data removed]",
      "text/plain": [
       "<matplotlib.figure.Figure at 0x7fd868787410>"
      ]
     },
     "metadata": {},
     "output_type": "display_data"
    }
   ],
   "source": [
    "plot_calibration_curve(status_test, preds)"
   ]
  },
  {
   "cell_type": "markdown",
   "metadata": {},
   "source": [
    "-----\n",
    "Калибровочная кривая не близка к диагональной.\n",
    "\n",
    "-----"
   ]
  },
  {
   "cell_type": "markdown",
   "metadata": {},
   "source": [
    "Попробуем откалибровать вероятности. Грубо говоря, это процедура, которая для каждого отрезка $[a_i, b_i]$ строит преобразование, которое корректирует вероятности в нем, приводя тем самым калибровочную кривую к диагональной форме.\n",
    "\n",
    "Воспользуйтесь классом sklearn.calibration.CalibratedClassifierCV для калибровки вероятностей на обучении, и постройте с его помощью предсказания для тестовой выборки. Нарисуйте для них калибровочную кривую. Улучшилась ли она?"
   ]
  },
  {
   "cell_type": "code",
   "execution_count": 169,
   "metadata": {
    "collapsed": false
   },
   "outputs": [
    {
     "data": {
      "image/png": "[encoded data removed]",
      "text/plain": [
       "<matplotlib.figure.Figure at 0x7fd868716b90>"
      ]
     },
     "metadata": {},
     "output_type": "display_data"
    }
   ],
   "source": [
    "from sklearn.calibration import CalibratedClassifierCV\n",
    "\n",
    "clf_calibrd = CalibratedClassifierCV(base_estimator=clf)\n",
    "clf_calibrd.fit(X, status_train)\n",
    "preds = clf_calibrd.predict_proba(X_test)[:, 1]\n",
    "plot_calibration_curve(status_test, preds)"
   ]
  },
  {
   "cell_type": "markdown",
   "metadata": {},
   "source": [
    "#### Задание 6\n",
    "Здесь вы можете вставить вашу любимую картинку про Австралию."
   ]
  },
  {
   "cell_type": "markdown",
   "metadata": {
    "collapsed": true
   },
   "source": [
    "![Australia one love](Australia one love.jpg)"
   ]
  },
  {
   "cell_type": "markdown",
   "metadata": {},
   "source": [
    "## Часть 2. Градиентный спуск своими руками\n",
    "**(опциональная часть, за правильное выполнение к оценке добавляется 3 балла)**"
   ]
  },
  {
   "cell_type": "markdown",
   "metadata": {},
   "source": [
    "В этой части вам предстоит самостоятельно реализовать градиентный спуск для логистической функции потерь — то есть, по сути, собственными руками обучить логистическую регрессию. Будем использовать данные из предыдущей части."
   ]
  },
  {
   "cell_type": "markdown",
   "metadata": {},
   "source": [
    "Добавьте к обучающей и тестовой выборкам единичный признак. Переведите значения целевого вектора в множество $\\{-1, +1\\}$."
   ]
  },
  {
   "cell_type": "code",
   "execution_count": 15,
   "metadata": {
    "collapsed": false
   },
   "outputs": [],
   "source": [
    "Xn = np.hstack((np.ones((X.shape[0], 1)), X))\n",
    "yn_train = status_train.copy()\n",
    "yn_train[yn_train == 0] = -1\n",
    "\n",
    "Xn_test = np.hstack((np.ones((X_test.shape[0], 1)), X_test))\n",
    "yn_test = status_test.copy()\n",
    "yn_test[yn_test == 0] = -1"
   ]
  },
  {
   "cell_type": "markdown",
   "metadata": {},
   "source": [
    "Для начала реализуйте функции, которые вычисляют функционал, его градиент, а также прогнозы модели."
   ]
  },
  {
   "cell_type": "code",
   "execution_count": 4,
   "metadata": {
    "collapsed": true
   },
   "outputs": [],
   "source": [
    "# возвращает вектор предсказанных вероятностей для выборки X\n",
    "def make_pred(X, w):\n",
    "    pred_proba = X.dot(w)\n",
    "    return pred_proba"
   ]
  },
  {
   "cell_type": "code",
   "execution_count": 5,
   "metadata": {
    "collapsed": true
   },
   "outputs": [],
   "source": [
    "# возвращает значение логистического функционала для выборки (X, y) и вектора весов w\n",
    "def get_func(w, X, y):\n",
    "    N, D = X.shape\n",
    "    exp_arg_terms = -y.reshape((N, 1)) * X * w.reshape((1, D))\n",
    "    exp_arg_max_min = exp_arg_terms.max(axis=1) - exp_arg_terms.min(axis=1)\n",
    "    exp_arg = exp_arg_terms.sum(axis=1) - exp_arg_max_min\n",
    "    cost = (exp_arg_max_min + \\\n",
    "        np.log(np.exp(-exp_arg_max_min) + np.exp(exp_arg))).sum()\n",
    "    return cost"
   ]
  },
  {
   "cell_type": "code",
   "execution_count": 6,
   "metadata": {
    "collapsed": false
   },
   "outputs": [],
   "source": [
    "# возвращает градиент логистического функционала для выборки (X, y) и вектора весов w\n",
    "def get_grad(w, X, y):\n",
    "    N, D = X.shape\n",
    "    exp_arg_terms = y.reshape((N, 1)) * X * w.reshape((1, D))\n",
    "    exp_arg_max_min = exp_arg_terms.max(axis=1) - exp_arg_terms.min(axis=1)\n",
    "    exp_arg = exp_arg_terms.sum(axis=1) - exp_arg_max_min\n",
    "    grad = -((y * np.exp(-exp_arg_max_min) / \\\n",
    "             (np.exp(-exp_arg_max_min) + np.exp(exp_arg))).reshape((N, 1)) * X).sum(axis=0)\n",
    "    return grad"
   ]
  },
  {
   "cell_type": "markdown",
   "metadata": {},
   "source": [
    "-----\n",
    "Функции подсчета целевой функции и её градиента реализованы с выделением главной части экспоненты для большей численной устойчивости.\n",
    "\n",
    "Для проверки правильности подсчета градиента подсчитанный градиент сравнивается с его разностным приближением."
   ]
  },
  {
   "cell_type": "code",
   "execution_count": 118,
   "metadata": {
    "collapsed": true
   },
   "outputs": [],
   "source": [
    "def compute_gradient(J, theta, eps=1e-6):\n",
    "    '''\n",
    "    Accepts:\n",
    "    J - function that returns loss - float\n",
    "    theta - numpy.ndarray - point where gradient must be computed\n",
    "    eps - float, optional - calculations precision\n",
    "    Returns:\n",
    "    grad - approximate value of gradient at point theta\n",
    "    '''\n",
    "\n",
    "    D = theta.size\n",
    "    grad = np.empty(D, dtype=np.float64)\n",
    "    shift = np.zeros(D, dtype=np.float64)\n",
    "    for i in range(D):\n",
    "        if i > 0:\n",
    "            shift[i - 1] = 0\n",
    "        shift[i] += eps\n",
    "        grad[i] = (J(theta + shift) - J(theta - shift)) / eps / 2.0\n",
    "    return grad\n",
    "\n",
    "\n",
    "def check_gradient_eq(grad, numer_grad, eps=1e-6):\n",
    "    '''\n",
    "    Accepts:\n",
    "    grad - numpy.ndarray - true gradient of J at point theta\n",
    "    numer_grad - numpy.ndarray - computer gradient of J at point theta\n",
    "    Returns:\n",
    "    True or False - whether numerical gradient is equal to computed\n",
    "    '''\n",
    "    \n",
    "    if not np.all(np.abs(grad - numer_grad) < eps):\n",
    "        print((\"ERROR: gradient is incorrect.\\n\"\n",
    "               \"gradient: {}\\n\"\n",
    "               \"numerical gradient: {}\").format(grad, numer_grad))\n",
    "        return False\n",
    "    print(\"OK\")\n",
    "    return True"
   ]
  },
  {
   "cell_type": "code",
   "execution_count": 119,
   "metadata": {
    "collapsed": false
   },
   "outputs": [
    {
     "name": "stdout",
     "output_type": "stream",
     "text": [
      "OK\n"
     ]
    },
    {
     "data": {
      "text/plain": [
       "True"
      ]
     },
     "execution_count": 119,
     "metadata": {},
     "output_type": "execute_result"
    }
   ],
   "source": [
    "features = 25\n",
    "w = np.random.rand(features)\n",
    "grad = get_grad(w, Xn[:, :features], yn_train)\n",
    "grad_numer = compute_gradient(lambda w: get_func(w, Xn[:, :features], yn_train), w)\n",
    "check_gradient_eq(grad, grad_numer)"
   ]
  },
  {
   "cell_type": "markdown",
   "metadata": {},
   "source": [
    "-----"
   ]
  },
  {
   "cell_type": "markdown",
   "metadata": {},
   "source": [
    "Теперь реализуйте градиентный спуск (не стохастический). Функция должна возвращать вектор весов и список значений функционала на каждой итерации. В градиентном спуске должно выполняться не более max_iter итераций."
   ]
  },
  {
   "cell_type": "code",
   "execution_count": 17,
   "metadata": {
    "collapsed": true
   },
   "outputs": [],
   "source": [
    "def converged(w, prev_obj, obj, tol=1e-6, criterion='objective'):\n",
    "    '''Accepted values for criterion:\n",
    "    'objective' -- stop when objective function is small,\n",
    "    'value' -- stop when norm of vector being optimized is small.\n",
    "    '''\n",
    "    \n",
    "    if criterion == 'objective':\n",
    "        return (abs(obj - prev_obj) < tol)\n",
    "    elif criterion == 'value':\n",
    "        return ((w * w).sum() < tol * tol)\n",
    "    return None\n",
    "\n",
    "\n",
    "def grad_descent(X, y, step_size, max_iter, stop_criterion='objective'):\n",
    "    '''Accepted values for stop_criterion:\n",
    "    'objective' -- stop when objective function is small,\n",
    "    'value' -- stop when norm of vector being optimized is small.\n",
    "    '''\n",
    "    tol = 1e-6\n",
    "    \n",
    "    N, D = X.shape\n",
    "    w = np.random.rand(D) * 2\n",
    "    obj = [float('inf'), get_func(w, X, y)]\n",
    "    iter_num = 0\n",
    "    \n",
    "    while not converged(w, obj[-2], obj[-1], tol, stop_criterion) and iter_num < max_iter:\n",
    "        grad = get_grad(w, X, y)\n",
    "        #grad /= np.linalg.norm(grad)\n",
    "        w -= step_size * grad\n",
    "        \n",
    "        obj.append(get_func(w, X, y))\n",
    "        #if not np.isfinite(obj[-1]):\n",
    "        #    w = np.random.rand(D) * 2   # re-initialization\n",
    "        \n",
    "        iter_num += 1\n",
    "    \n",
    "    obj = obj[1:]\n",
    "    return (w, obj)"
   ]
  },
  {
   "cell_type": "markdown",
   "metadata": {},
   "source": [
    "Запустите градиентный спуск для значений размера шага из набора [0.001, 1, 10]. Нарисуйте кривые зависимости значения функционала от номера итерации. Проанализируйте их. Вычислите AUC-ROC на тестовой выборке для лучшего из обученных вариантов."
   ]
  },
  {
   "cell_type": "code",
   "execution_count": 121,
   "metadata": {
    "collapsed": false
   },
   "outputs": [
    {
     "name": "stdout",
     "output_type": "stream",
     "text": [
      "GD completed for step_size=1e-05\n",
      "GD completed for step_size=0.0001\n",
      "GD completed for step_size=0.001\n",
      "GD completed for step_size=1.0\n",
      "GD completed for step_size=10.0\n"
     ]
    },
    {
     "data": {
      "text/plain": [
       "<matplotlib.legend.Legend at 0x7fdb479ac290>"
      ]
     },
     "execution_count": 121,
     "metadata": {},
     "output_type": "execute_result"
    },
    {
     "data": {
      "image/png": "[encoded data removed]",
      "text/plain": [
       "<matplotlib.figure.Figure at 0x7fdb472c7050>"
      ]
     },
     "metadata": {},
     "output_type": "display_data"
    }
   ],
   "source": [
    "step_grid = [0.00001, 0.0001, 0.001, 1.0, 10.0]\n",
    "\n",
    "plt.figure(figsize=(8, 8))\n",
    "plt.title('Learning curves for different step sizes')\n",
    "plt.xlabel('no. of iterations')\n",
    "plt.ylabel('objective value')\n",
    "ws = []\n",
    "for step_size in step_grid:\n",
    "    w, obj = grad_descent(Xn, yn_train, step_size, max_iter=100, stop_criterion='objective')\n",
    "    print 'GD completed for step_size={}'.format(step_size)\n",
    "    plt.semilogy(np.arange(len(obj)), obj, label='step_size={}'.format(step_size))\n",
    "    ws.append(w)\n",
    "plt.legend()"
   ]
  },
  {
   "cell_type": "markdown",
   "metadata": {},
   "source": [
    "По траекториям видно, что некоторые из выбранных размеров шага приводят к медленной сходимости к решению (например, синяя кривая), некоторые -- к быстрой (красная). Судя по красной кривой, метод пропускает оптимум, затем возвращается, идя в другую сторону, затем делает шаг в прежнюю сторону и т.д."
   ]
  },
  {
   "cell_type": "code",
   "execution_count": 133,
   "metadata": {
    "collapsed": false
   },
   "outputs": [
    {
     "name": "stdout",
     "output_type": "stream",
     "text": [
      "ROC-AUC for best option: 0.797763844105\n"
     ]
    }
   ],
   "source": [
    "i_best = 1\n",
    "\n",
    "w_best = ws[i_best]\n",
    "yn_pred_proba = make_pred(Xn_test, w_best)\n",
    "roc_auc = roc_auc_score(yn_test, yn_pred_proba)\n",
    "print 'ROC-AUC for best option:', roc_auc"
   ]
  },
  {
   "cell_type": "markdown",
   "metadata": {},
   "source": [
    "Теперь реализуйте стохастический градиентный спуск. Функция должна возвращать вектор весов и список значений функционала на каждой итерации. В стохастическом градиентном спуске должно выполняться не более max_iter итераций."
   ]
  },
  {
   "cell_type": "code",
   "execution_count": 19,
   "metadata": {
    "collapsed": true
   },
   "outputs": [],
   "source": [
    "def sgd(X, y, step_size, max_iter, stop_criterion='objective'):\n",
    "    '''Accepted values for stop_criterion:\n",
    "    'objective' -- stop when objective function is small,\n",
    "    'value' -- stop when norm of vector being optimized is small.\n",
    "    '''\n",
    "    tol = 1e-6\n",
    "    \n",
    "    N, D = X.shape\n",
    "    w = np.random.rand(D) * 2\n",
    "    obj = [float('inf'), get_func(w, X, y)]\n",
    "    iter_num = 0\n",
    "    \n",
    "    while not converged(w, obj[-2], obj[-1], tol, stop_criterion) and iter_num < max_iter:\n",
    "        i = np.random.randint(low=0, high=N)\n",
    "        X_sub = X[i:i+1]\n",
    "        y_sub = y[i:i+1]\n",
    "        grad = get_grad(w, X_sub, y_sub)\n",
    "        #print 'grad:', grad\n",
    "        #grad /= np.linalg.norm(grad)\n",
    "        w -= step_size * grad\n",
    "        #print 'w:', w\n",
    "        \n",
    "        obj.append(get_func(w, X, y))\n",
    "        #print 'obj:', obj\n",
    "        if not np.isfinite(obj[-1]):\n",
    "            w = np.random.rand(D) * 2   # re-initialization\n",
    "        #print 'w:', w\n",
    "        \n",
    "        iter_num += 1\n",
    "    \n",
    "    obj = obj[1:]\n",
    "    return (w, obj)"
   ]
  },
  {
   "cell_type": "markdown",
   "metadata": {},
   "source": [
    "Подберите размер шага, при котором SGD будет сходиться. Нарисуйте график сходимости. Вычислите AUC-ROC на тестовой выборке."
   ]
  },
  {
   "cell_type": "code",
   "execution_count": 143,
   "metadata": {
    "collapsed": false
   },
   "outputs": [
    {
     "name": "stdout",
     "output_type": "stream",
     "text": [
      "SGD completed for step_size=0.0001\n",
      "ROC-AUC=0.523137883209 for step_size=0.0001\n",
      "SGD completed for step_size=0.001\n",
      "ROC-AUC=0.540425176847 for step_size=0.001\n",
      "SGD completed for step_size=0.01\n",
      "ROC-AUC=0.502576052062 for step_size=0.01\n",
      "SGD completed for step_size=0.1\n",
      "ROC-AUC=0.501362474142 for step_size=0.1\n",
      "SGD completed for step_size=1.0\n",
      "ROC-AUC=0.640479310207 for step_size=1.0\n",
      "SGD completed for step_size=3.0\n",
      "ROC-AUC=0.451207150321 for step_size=3.0\n"
     ]
    },
    {
     "data": {
      "text/plain": [
       "<matplotlib.legend.Legend at 0x7fdb47ef3b50>"
      ]
     },
     "execution_count": 143,
     "metadata": {},
     "output_type": "execute_result"
    },
    {
     "data": {
      "image/png": "[encoded data removed]",
      "text/plain": [
       "<matplotlib.figure.Figure at 0x7fdb4777c9d0>"
      ]
     },
     "metadata": {},
     "output_type": "display_data"
    }
   ],
   "source": [
    "step_grid = [0.0001, 0.001, 0.01, 0.1, 1.0, 3.0]\n",
    "\n",
    "plt.figure(figsize=(8, 8))\n",
    "plt.title('Learning curves for different step sizes')\n",
    "plt.xlabel('no. of iterations')\n",
    "plt.ylabel('objective value')\n",
    "for step_size in step_grid:\n",
    "    w, obj = sgd(Xn, yn_train, step_size, max_iter=100, stop_criterion='objective')\n",
    "    print 'SGD completed for step_size={}'.format(step_size)\n",
    "    plt.semilogy(np.arange(len(obj)), obj, label='step_size={}'.format(step_size))\n",
    "    \n",
    "    yn_pred = make_pred(Xn_test, w)\n",
    "    roc_auc = roc_auc_score(yn_test, yn_pred)\n",
    "    print 'ROC-AUC={} for step_size={}'.format(roc_auc, step_size)\n",
    "plt.legend()"
   ]
  },
  {
   "cell_type": "markdown",
   "metadata": {},
   "source": [
    "А теперь самое сложное: заново сформируйте выборку с помощью transform_data, но теперь не масштабируйте вещественные признаки. Запустите на этой выборке градиентный спуск. Что вы наблюдаете? Удается ли достичь такого же качества, как и при использовании масштабирования?"
   ]
  },
  {
   "cell_type": "code",
   "execution_count": 9,
   "metadata": {
    "collapsed": false
   },
   "outputs": [],
   "source": [
    "# transforming data\n",
    "from sklearn.preprocessing import StandardScaler\n",
    "from sklearn.feature_extraction import DictVectorizer\n",
    "scaler = StandardScaler()\n",
    "transformer = DictVectorizer(sparse=False)\n",
    "X2, scaler, transformer = transform_data(data_train, scaler, transformer, False, to_scale=False)\n",
    "X2_test, _, _ = transform_data(data_test, scaler, transformer, True, to_scale=False)"
   ]
  },
  {
   "cell_type": "code",
   "execution_count": 10,
   "metadata": {
    "collapsed": false
   },
   "outputs": [],
   "source": [
    "# adding all-ones feature\n",
    "X2n = np.hstack((np.ones((X2.shape[0], 1)), X2))\n",
    "X2n_test = np.hstack((np.ones((X2_test.shape[0], 1)), X2_test))"
   ]
  },
  {
   "cell_type": "code",
   "execution_count": 22,
   "metadata": {
    "collapsed": false
   },
   "outputs": [
    {
     "name": "stdout",
     "output_type": "stream",
     "text": [
      "SGD completed for step_size=0.0001\n",
      "ROC-AUC=0.474894917597 for step_size=0.0001\n",
      "SGD completed for step_size=0.001\n",
      "ROC-AUC=0.505671324416 for step_size=0.001\n",
      "SGD completed for step_size=0.01\n",
      "ROC-AUC=0.496936275955 for step_size=0.01\n",
      "SGD completed for step_size=0.1\n",
      "ROC-AUC=0.466301983946 for step_size=0.1\n",
      "SGD completed for step_size=1.0\n",
      "ROC-AUC=0.5236497324 for step_size=1.0\n",
      "SGD completed for step_size=3.0\n",
      "ROC-AUC=0.500083440853 for step_size=3.0\n"
     ]
    },
    {
     "data": {
      "text/plain": [
       "<matplotlib.legend.Legend at 0x7f57f80e4d90>"
      ]
     },
     "execution_count": 22,
     "metadata": {},
     "output_type": "execute_result"
    },
    {
     "data": {
      "image/png": "[encoded data removed]",
      "text/plain": [
       "<matplotlib.figure.Figure at 0x7f57f7b88a90>"
      ]
     },
     "metadata": {},
     "output_type": "display_data"
    }
   ],
   "source": [
    "# running SGD, plotting results, computing AUC-ROC\n",
    "step_grid = [0.0001, 0.001, 0.01, 0.1, 1.0, 3.0]\n",
    "\n",
    "plt.figure(figsize=(8, 8))\n",
    "plt.title('Learning curves for different step sizes')\n",
    "plt.xlabel('no. of iterations')\n",
    "plt.ylabel('objective value')\n",
    "for step_size in step_grid:\n",
    "    w, obj = sgd(X2n, yn_train, step_size, max_iter=100, stop_criterion='objective')\n",
    "    print 'SGD completed for step_size={}'.format(step_size)\n",
    "    plt.semilogy(np.arange(len(obj)), obj, label='step_size={}'.format(step_size))\n",
    "    \n",
    "    yn_pred_proba = make_pred(X2n_test, w)\n",
    "    roc_auc = roc_auc_score(yn_test, yn_pred_proba)\n",
    "    print 'ROC-AUC={} for step_size={}'.format(roc_auc, step_size)\n",
    "plt.legend()"
   ]
  },
  {
   "cell_type": "markdown",
   "metadata": {},
   "source": [
    "Здесь вы можете поделиться своими мыслями по поводу этой части."
   ]
  },
  {
   "cell_type": "markdown",
   "metadata": {
    "collapsed": true
   },
   "source": [
    "-----\n",
    "Основными проблемами, возникшими при отладке градиентного спуска, были большое время оптимизации и численная неустойчивость. Большое время оптимизации было вызвано в первую очередь объемом данных (в данных более 11000 признаков). Численная неустойчивость возникала из-за потенцирования, а затем логарифмирования слишком больших или слишком маленьких чисел. В связи с этим было реализовано выделение главной части экспоненты, что в свою очередь еще повысило время работы (прозводится больше сложных арифметических операций). Градиентный спуск работает на порядки дольше стохастического градиентного спуска, но последний останавливается на первых итерациях и достигает из-за этого низкого качества. Также можно видеть, что масштабирование признаков обязательно для проведения оптимизации методом градиентного спуска.\n",
    "\n",
    "-----"
   ]
  },
  {
   "cell_type": "markdown",
   "metadata": {},
   "source": [
    "## Часть 3. Линейная регрессия на простом примере"
   ]
  },
  {
   "cell_type": "markdown",
   "metadata": {},
   "source": [
    "В этой части мы очень кратко разберемся с линейной регрессией и измерением качества ее прогнозов. Будем использовать датасет diabetes."
   ]
  },
  {
   "cell_type": "code",
   "execution_count": 2,
   "metadata": {
    "collapsed": false
   },
   "outputs": [],
   "source": [
    "from sklearn import datasets\n",
    "from sklearn.cross_validation import train_test_split\n",
    "data = datasets.load_diabetes()\n",
    "X, X_test, y, y_test = train_test_split(data.data, data.target, train_size=0.7, random_state=241)"
   ]
  },
  {
   "cell_type": "markdown",
   "metadata": {},
   "source": [
    "Обучите линейную регрессию с L2-регуляризатором, подобрав лучшее значение параметра регуляризации на тестовой выборке. Используйте MSE в качестве тестовой выборки. При каком значении этого параметра достигается наилучшее качество?"
   ]
  },
  {
   "cell_type": "code",
   "execution_count": 7,
   "metadata": {
    "collapsed": false
   },
   "outputs": [
    {
     "name": "stdout",
     "output_type": "stream",
     "text": [
      "Score for alpha=0.001: 3120.09020578\n",
      "Score for alpha=0.01: 3107.38818648\n",
      "Score for alpha=0.1: 3096.03015101\n",
      "Score for alpha=1.0: 3399.40482339\n",
      "Score for alpha=10.0: 4577.48210429\n",
      "Score for alpha=100.0: 5210.22019186\n"
     ]
    }
   ],
   "source": [
    "from sklearn.linear_model import Ridge\n",
    "from sklearn.metrics import mean_squared_error\n",
    "alpha_grid = [0.001, 0.01, 0.1, 1.0, 10.0, 100.0]\n",
    "\n",
    "for alpha in alpha_grid:\n",
    "    regr_lr = Ridge(alpha=alpha)\n",
    "    regr_lr.fit(X, y)\n",
    "    y_pred = regr_lr.predict(X_test)\n",
    "    score = mean_squared_error(y_pred, y_test)\n",
    "    print 'Score for alpha={}: {}'.format(alpha, score)"
   ]
  },
  {
   "cell_type": "markdown",
   "metadata": {},
   "source": [
    "-----\n",
    "Наилучшее качество достигается при $\\alpha = 0.1$.\n",
    "\n",
    "-----"
   ]
  },
  {
   "cell_type": "markdown",
   "metadata": {},
   "source": [
    "Вычислите для лучшей из моделей RMSE и коэффициент детерминации (r2_score) на тестовой выборке. Что вы можете сказать о значении коэффицинта детерминации? Насколько данная модель близка к оптимальной?"
   ]
  },
  {
   "cell_type": "code",
   "execution_count": 9,
   "metadata": {
    "collapsed": false
   },
   "outputs": [
    {
     "name": "stdout",
     "output_type": "stream",
     "text": [
      "R2 score: 0.417024184822\n"
     ]
    }
   ],
   "source": [
    "from sklearn.metrics import r2_score\n",
    "\n",
    "alpha_best = 0.1\n",
    "regr_lr = Ridge(alpha=alpha_best)\n",
    "regr_lr.fit(X, y)\n",
    "y_pred = regr_lr.predict(X_test)\n",
    "score = r2_score(y_test, y_pred)\n",
    "print 'R2 score:', score"
   ]
  },
  {
   "cell_type": "markdown",
   "metadata": {
    "collapsed": true
   },
   "source": [
    "-----\n",
    "Коэффициент детерминации лежит в диапазоне от 0 до 1. Модель лучше объясняет разнородность данных, когда её коэффициент детерминации близок к 1. В данном случае коэффициент менее 0.5. Можно сказать, что модель описывает (объясняет) не более 30% разброса в данных (согласно таблице на сайте http://people.duke.edu/~rnau/rsquared.htm).\n",
    "\n",
    "-----"
   ]
  }
 ],
 "metadata": {
  "kernelspec": {
   "display_name": "Python 2",
   "language": "python",
   "name": "python2"
  },
  "language_info": {
   "codemirror_mode": {
    "name": "ipython",
    "version": 2
   },
   "file_extension": ".py",
   "mimetype": "text/x-python",
   "name": "python",
   "nbconvert_exporter": "python",
   "pygments_lexer": "ipython2",
   "version": "2.7.6"
  }
 },
 "nbformat": 4,
 "nbformat_minor": 0
}
